{
 "cells": [
  {
   "cell_type": "markdown",
   "metadata": {},
   "source": [
    "<img align=\"right\" width=\"400\" src=\"https://www.fhnw.ch/de/++theme++web16theme/assets/media/img/fachhochschule-nordwestschweiz-fhnw-logo.svg\" alt=\"FHNW Logo\">\n",
    "\n",
    "\n",
    "# RNN Text Classifier\n",
    "\n",
    "by Fabian Märki\n",
    "\n",
    "## Summary\n",
    "The aim of this notebook is to build a RNN text classifier. It utilize pretrained word embeddings in order to take advantage of [transfer learning](https://machinelearningmastery.com/transfer-learning-for-deep-learning) in NLP. Additionally, it sets the stage for hyperparameter tuning and model design optimization.\n",
    "\n",
    "## Links\n",
    "- [Enabling GPU on Google Colab](https://www.tutorialspoint.com/google_colab/google_colab_using_free_gpu.htm)\n",
    "\n",
    "This notebook contains assigments: <font color='red'>Questions are written in red.</font>\n",
    "\n",
    "<a href=\"https://colab.research.google.com/github/markif/2023_HS_DAS_NLP_Notebooks/blob/master/06_a_RNN_Text_Classifier.ipynb\">\n",
    "  <img align=\"left\" src=\"https://colab.research.google.com/assets/colab-badge.svg\" alt=\"Open In Colab\"/>\n",
    "</a>"
   ]
  },
  {
   "cell_type": "code",
   "execution_count": 1,
   "metadata": {},
   "outputs": [],
   "source": [
    "%%capture\n",
    "\n",
    "!pip install 'fhnw-nlp-utils>=0.8.0,<0.9.0'\n",
    "\n",
    "from fhnw.nlp.utils.storage import load_dataframe\n",
    "from fhnw.nlp.utils.storage import download\n",
    "from fhnw.nlp.utils.system import set_log_level\n",
    "from fhnw.nlp.utils.colab import runs_on_colab\n",
    "\n",
    "import pandas as pd\n",
    "import numpy as np\n",
    "\n",
    "set_log_level(2)\n",
    "import tensorflow as tf"
   ]
  },
  {
   "cell_type": "code",
   "execution_count": 2,
   "metadata": {},
   "outputs": [
    {
     "name": "stdout",
     "output_type": "stream",
     "text": [
      "OS name: posix\n",
      "Platform name: Linux\n",
      "Platform release: 5.19.0-41-generic\n",
      "Python version: 3.8.10\n",
      "CPU cores: 6\n",
      "RAM: 31.12GB total and 24.1GB available\n",
      "Tensorflow version: 2.12.0\n",
      "GPU is available\n",
      "GPU is a NVIDIA GeForce RTX 2070 with Max-Q Design with 8192MiB\n"
     ]
    }
   ],
   "source": [
    "from fhnw.nlp.utils.system import system_info\n",
    "print(system_info())"
   ]
  },
  {
   "cell_type": "markdown",
   "metadata": {},
   "source": [
    "Download the [cleaned](https://github.com/markif/2023_HS_CAS_NLP_LAB_Notebooks/blob/master/02_a_Text_Cleaning.ipynb) and [preprocessed](https://github.com/markif/2023_HS_CAS_NLP_LAB_Notebooks/blob/master/02_b_Text_Normalization.ipynb) doctor reviews dataset. "
   ]
  },
  {
   "cell_type": "code",
   "execution_count": 3,
   "metadata": {},
   "outputs": [
    {
     "name": "stdout",
     "output_type": "stream",
     "text": [
      "CPU times: user 6.65 s, sys: 1.51 s, total: 8.16 s\n",
      "Wall time: 4.56 s\n"
     ]
    }
   ],
   "source": [
    "%%time\n",
    "download(\"https://drive.switch.ch/index.php/s/0hE8wO4FbfGIJld/download\", \"data/german_doctor_reviews_tokenized.parq\")\n",
    "data = load_dataframe(\"data/german_doctor_reviews_tokenized.parq\")"
   ]
  },
  {
   "cell_type": "markdown",
   "metadata": {},
   "source": [
    "Exclude *neutral* ratings so that the task becomes a binary classification."
   ]
  },
  {
   "cell_type": "code",
   "execution_count": 4,
   "metadata": {},
   "outputs": [
    {
     "data": {
      "text/plain": [
       "(331187, 10)"
      ]
     },
     "execution_count": 4,
     "metadata": {},
     "output_type": "execute_result"
    }
   ],
   "source": [
    "# remove all neutral sentimens\n",
    "data = data.loc[(data[\"label\"] != \"neutral\")]\n",
    "data.shape"
   ]
  },
  {
   "cell_type": "code",
   "execution_count": 5,
   "metadata": {},
   "outputs": [
    {
     "data": {
      "text/html": [
       "<div>\n",
       "<style scoped>\n",
       "    .dataframe tbody tr th:only-of-type {\n",
       "        vertical-align: middle;\n",
       "    }\n",
       "\n",
       "    .dataframe tbody tr th {\n",
       "        vertical-align: top;\n",
       "    }\n",
       "\n",
       "    .dataframe thead th {\n",
       "        text-align: right;\n",
       "    }\n",
       "</style>\n",
       "<table border=\"1\" class=\"dataframe\">\n",
       "  <thead>\n",
       "    <tr style=\"text-align: right;\">\n",
       "      <th></th>\n",
       "      <th>text_original</th>\n",
       "      <th>rating</th>\n",
       "      <th>text</th>\n",
       "      <th>label</th>\n",
       "      <th>sentiment</th>\n",
       "      <th>token_clean</th>\n",
       "      <th>text_clean</th>\n",
       "      <th>token_lemma</th>\n",
       "      <th>token_stem</th>\n",
       "      <th>token_clean_stopwords</th>\n",
       "    </tr>\n",
       "  </thead>\n",
       "  <tbody>\n",
       "    <tr>\n",
       "      <th>0</th>\n",
       "      <td>Ich bin franzose und bin seit ein paar Wochen ...</td>\n",
       "      <td>2.0</td>\n",
       "      <td>Ich bin franzose und bin seit ein paar Wochen ...</td>\n",
       "      <td>positive</td>\n",
       "      <td>1</td>\n",
       "      <td>[ich, bin, franzose, und, bin, seit, ein, paar...</td>\n",
       "      <td>ich bin franzose und bin seit ein paar wochen ...</td>\n",
       "      <td>[franzose, seit, paar, wochen, muenchen, zahn,...</td>\n",
       "      <td>[franzos, seit, paar, woch, muench, ., zahn, s...</td>\n",
       "      <td>[franzose, seit, paar, wochen, muenchen, ., za...</td>\n",
       "    </tr>\n",
       "    <tr>\n",
       "      <th>1</th>\n",
       "      <td>Dieser Arzt ist das unmöglichste was mir in me...</td>\n",
       "      <td>6.0</td>\n",
       "      <td>Dieser Arzt ist das unmöglichste was mir in me...</td>\n",
       "      <td>negative</td>\n",
       "      <td>-1</td>\n",
       "      <td>[dieser, arzt, ist, das, unmöglichste, was, mi...</td>\n",
       "      <td>dieser arzt ist das unmöglichste was mir in me...</td>\n",
       "      <td>[arzt, unmöglichste, leben, je, begegnen, unfr...</td>\n",
       "      <td>[arzt, unmog, leb, je, begegnet, unfreund, ,, ...</td>\n",
       "      <td>[arzt, unmöglichste, leben, je, begegnet, unfr...</td>\n",
       "    </tr>\n",
       "    <tr>\n",
       "      <th>2</th>\n",
       "      <td>Hatte akute Beschwerden am Rücken. Herr Magura...</td>\n",
       "      <td>1.0</td>\n",
       "      <td>Hatte akute Beschwerden am Rücken. Herr Magura...</td>\n",
       "      <td>positive</td>\n",
       "      <td>1</td>\n",
       "      <td>[hatte, akute, beschwerden, am, rücken, ., her...</td>\n",
       "      <td>hatte akute beschwerden am rücken . herr magur...</td>\n",
       "      <td>[akut, beschwerden, rücken, magura, erste, arz...</td>\n",
       "      <td>[akut, beschwerd, ruck, ., magura, erst, arzt,...</td>\n",
       "      <td>[akute, beschwerden, rücken, ., magura, erste,...</td>\n",
       "    </tr>\n",
       "  </tbody>\n",
       "</table>\n",
       "</div>"
      ],
      "text/plain": [
       "                                       text_original  rating   \n",
       "0  Ich bin franzose und bin seit ein paar Wochen ...     2.0  \\\n",
       "1  Dieser Arzt ist das unmöglichste was mir in me...     6.0   \n",
       "2  Hatte akute Beschwerden am Rücken. Herr Magura...     1.0   \n",
       "\n",
       "                                                text     label  sentiment   \n",
       "0  Ich bin franzose und bin seit ein paar Wochen ...  positive          1  \\\n",
       "1  Dieser Arzt ist das unmöglichste was mir in me...  negative         -1   \n",
       "2  Hatte akute Beschwerden am Rücken. Herr Magura...  positive          1   \n",
       "\n",
       "                                         token_clean   \n",
       "0  [ich, bin, franzose, und, bin, seit, ein, paar...  \\\n",
       "1  [dieser, arzt, ist, das, unmöglichste, was, mi...   \n",
       "2  [hatte, akute, beschwerden, am, rücken, ., her...   \n",
       "\n",
       "                                          text_clean   \n",
       "0  ich bin franzose und bin seit ein paar wochen ...  \\\n",
       "1  dieser arzt ist das unmöglichste was mir in me...   \n",
       "2  hatte akute beschwerden am rücken . herr magur...   \n",
       "\n",
       "                                         token_lemma   \n",
       "0  [franzose, seit, paar, wochen, muenchen, zahn,...  \\\n",
       "1  [arzt, unmöglichste, leben, je, begegnen, unfr...   \n",
       "2  [akut, beschwerden, rücken, magura, erste, arz...   \n",
       "\n",
       "                                          token_stem   \n",
       "0  [franzos, seit, paar, woch, muench, ., zahn, s...  \\\n",
       "1  [arzt, unmog, leb, je, begegnet, unfreund, ,, ...   \n",
       "2  [akut, beschwerd, ruck, ., magura, erst, arzt,...   \n",
       "\n",
       "                               token_clean_stopwords  \n",
       "0  [franzose, seit, paar, wochen, muenchen, ., za...  \n",
       "1  [arzt, unmöglichste, leben, je, begegnet, unfr...  \n",
       "2  [akute, beschwerden, rücken, ., magura, erste,...  "
      ]
     },
     "execution_count": 5,
     "metadata": {},
     "output_type": "execute_result"
    }
   ],
   "source": [
    "data.head(3)"
   ]
  },
  {
   "cell_type": "markdown",
   "metadata": {},
   "source": [
    "Import some helper functions..."
   ]
  },
  {
   "cell_type": "code",
   "execution_count": 6,
   "metadata": {},
   "outputs": [],
   "source": [
    "from fhnw.nlp.utils.ploting import plot_history\n",
    "\n",
    "from fhnw.nlp.utils.params import build_model_cnn\n",
    "from fhnw.nlp.utils.params import build_model_rnn\n",
    "from fhnw.nlp.utils.params import build_preprocessed_dataset\n",
    "from fhnw.nlp.utils.params import compile_model\n",
    "from fhnw.nlp.utils.params import create_label_binarizer_and_set\n",
    "from fhnw.nlp.utils.params import create_text_preprocessor\n",
    "from fhnw.nlp.utils.params import dataframe_to_dataset\n",
    "from fhnw.nlp.utils.params import extract_embedding_layer_and_set\n",
    "from fhnw.nlp.utils.params import extract_text_vectorization_and_set\n",
    "from fhnw.nlp.utils.params import extract_vocabulary_and_set\n",
    "from fhnw.nlp.utils.params import get_train_test_split\n",
    "from fhnw.nlp.utils.params import re_compile_model\n",
    "from fhnw.nlp.utils.params import save_model\n",
    "from fhnw.nlp.utils.params import train_model"
   ]
  },
  {
   "cell_type": "markdown",
   "metadata": {},
   "source": [
    "Setup the *params* dictionary which is used to specify hyperparameters and model design choices (and is also used to store intermediate results).  This sets the stage for a possible hyperparameter tuning and model design optimization (not part of this notebook)."
   ]
  },
  {
   "cell_type": "markdown",
   "metadata": {},
   "source": [
    "<font color='red'>**TASK: You might want to try different *word embeddings* by changing the `embedding_type` parameter (values: *fasttext*, *bytepair*, *word2vec*).**</font>"
   ]
  },
  {
   "cell_type": "code",
   "execution_count": 7,
   "metadata": {},
   "outputs": [],
   "source": [
    "params = {\n",
    "    \"verbose\": True,\n",
    "    \"shuffle\": True,\n",
    "    \"n_samples\": len(data),\n",
    "    # modify batch_size in case you experience memory issues\n",
    "    \"batch_size\": 128,\n",
    "    \"X_column_name\": \"text_clean\",\n",
    "    \"y_column_name\": \"label\",\n",
    "    # modify to try different word embeddings\n",
    "    \"embedding_type\": \"fasttext\",\n",
    "    \"embedding_dim\": 300,\n",
    "    \"embedding_trainable\": False,\n",
    "    \"embedding_fasttext_model\": \"cc.de.300.bin\",\n",
    "    \"embedding_word2vec_model_url\": \"https://cloud.devmount.de/d2bc5672c523b086/german.model\",\n",
    "    \"embedding_spacy_model\": \"de_core_news_md\",\n",
    "    \"embedding_tensorflow_hub_url\": \"https://tfhub.dev/google/nnlm-de-dim128-with-normalization/2\",\n",
    "    \"model_type\": \"rnn\",\n",
    "}\n",
    "\n",
    "if runs_on_colab() and params[\"embedding_type\"] == \"fasttext\":\n",
    "    # colab as problems handling such large files\n",
    "    model_name = \"cc.de.50.bin\"\n",
    "    download(\"https://drive.switch.ch/index.php/s/fncH84BgISMlT3v/download\", model_name)\n",
    "    params[\"embedding_dim\"] = 50\n",
    "    params[\"embedding_fasttext_model\"] = model_name\n",
    "    "
   ]
  },
  {
   "cell_type": "markdown",
   "metadata": {},
   "source": [
    "...extract the vocabulary..."
   ]
  },
  {
   "cell_type": "code",
   "execution_count": 8,
   "metadata": {},
   "outputs": [
    {
     "name": "stdout",
     "output_type": "stream",
     "text": [
      "Inferred classification type: binary\n",
      "Median sequence length: 46\n",
      "Percentil (0.98) cutoff sequence length: 230\n",
      "Max sequence length: 408\n",
      "Used embedding sequence length: 230\n"
     ]
    }
   ],
   "source": [
    "create_label_binarizer_and_set(params, data)\n",
    "extract_vocabulary_and_set(params, data)"
   ]
  },
  {
   "cell_type": "markdown",
   "metadata": {},
   "source": [
    "...build the TextVectorization layer..."
   ]
  },
  {
   "cell_type": "code",
   "execution_count": 9,
   "metadata": {},
   "outputs": [
    {
     "name": "stdout",
     "output_type": "stream",
     "text": [
      "Vocabulary length: 189790\n"
     ]
    }
   ],
   "source": [
    "extract_text_vectorization_and_set(params)"
   ]
  },
  {
   "cell_type": "markdown",
   "metadata": {},
   "source": [
    "...import and load word embeddings..."
   ]
  },
  {
   "cell_type": "code",
   "execution_count": 10,
   "metadata": {},
   "outputs": [
    {
     "name": "stderr",
     "output_type": "stream",
     "text": [
      "/usr/local/lib/python3.8/dist-packages/_distutils_hack/__init__.py:33: UserWarning: Setuptools is replacing distutils.\n",
      "  warnings.warn(\"Setuptools is replacing distutils.\")\n",
      "Warning : `load_model` does not return WordVectorModel or SupervisedModel any more, but a `FastText` object which is very similar.\n"
     ]
    },
    {
     "name": "stdout",
     "output_type": "stream",
     "text": [
      "Embedding type: fasttext\n",
      "Number of null word embeddings: 9\n",
      "Words not found in total: 9\n",
      "Words without embedding (9/9): ['', 'úm', 'ìn', 'üw', 'èn', 'jé', 'äk', 'öä', 'öz']\n",
      "CPU times: user 6.44 s, sys: 3.19 s, total: 9.63 s\n",
      "Wall time: 9.61 s\n"
     ]
    }
   ],
   "source": [
    "%%time\n",
    "\n",
    "extract_embedding_layer_and_set(params)"
   ]
  },
  {
   "cell_type": "markdown",
   "metadata": {},
   "source": [
    "...prepare the training/test/validation data..."
   ]
  },
  {
   "cell_type": "code",
   "execution_count": 11,
   "metadata": {},
   "outputs": [
    {
     "name": "stdout",
     "output_type": "stream",
     "text": [
      "264949 train examples\n",
      "66238 test examples\n",
      "211959 train examples\n",
      "52990 test examples\n"
     ]
    }
   ],
   "source": [
    "data_train, data_test = get_train_test_split(params, data)\n",
    "data_train, data_val = get_train_test_split(params, data_train)\n",
    "\n",
    "dataset_train = dataframe_to_dataset(params, data_train)\n",
    "dataset_test = dataframe_to_dataset(params, data_test)\n",
    "dataset_val = dataframe_to_dataset(params, data_val)"
   ]
  },
  {
   "cell_type": "code",
   "execution_count": 12,
   "metadata": {},
   "outputs": [
    {
     "name": "stdout",
     "output_type": "stream",
     "text": [
      "tf.Tensor(b'tolle \\xc3\\xa4rztin , h\\xc3\\xb6rt auch mal zu auch wenn es l\\xc3\\xa4nger dauert . sind umgezogen und halten ihr troztdem die treue ! ! wurde nie entt\\xc3\\xa4uscht', shape=(), dtype=string)\n",
      "tf.Tensor(1, shape=(), dtype=int64)\n"
     ]
    }
   ],
   "source": [
    "for text, labels in dataset_train.take(1):\n",
    "    print(text)\n",
    "    print(labels)"
   ]
  },
  {
   "cell_type": "code",
   "execution_count": null,
   "metadata": {},
   "outputs": [],
   "source": []
  },
  {
   "cell_type": "markdown",
   "metadata": {},
   "source": [
    "Next we will build our data pipeline. "
   ]
  },
  {
   "cell_type": "code",
   "execution_count": 13,
   "metadata": {},
   "outputs": [],
   "source": [
    "training_preprocessor = create_text_preprocessor(params, True)"
   ]
  },
  {
   "cell_type": "code",
   "execution_count": 14,
   "metadata": {},
   "outputs": [],
   "source": [
    "dataset_train_preprocessed = build_preprocessed_dataset(params, dataset_train, True, training_preprocessor)\n",
    "dataset_val_preprocessed = build_preprocessed_dataset(params, dataset_val, False, training_preprocessor)"
   ]
  },
  {
   "cell_type": "code",
   "execution_count": null,
   "metadata": {},
   "outputs": [],
   "source": []
  },
  {
   "cell_type": "markdown",
   "metadata": {},
   "source": [
    "Next we will build our model. "
   ]
  },
  {
   "cell_type": "markdown",
   "metadata": {},
   "source": [
    "<font color='red'>**TASK: Improve the RNN model defined in `build_model_rnn` (play with rnn_units, activation function, rnn type ([RNN](https://keras.io/api/layers/recurrent_layers/simple_rnn/), [LSTM](https://keras.io/api/layers/recurrent_layers/lstm/), [GRU](https://keras.io/api/layers/recurrent_layers/gru/)), model design ([Bidirectional](https://keras.io/api/layers/recurrent_layers/bidirectional/), [Multi-Layer RNN](https://wandb.ai/lavanyashukla/visualize-models/reports/How-to-stack-multiple-LSTMs-in-keras---VmlldzoxOTg2MTY) ) etc...)**</font>"
   ]
  },
  {
   "cell_type": "markdown",
   "metadata": {},
   "source": [
    "You might get inspiration from:\n",
    "- [Working with RNNs](https://keras.io/guides/working_with_rnns/)\n",
    "- [Develop a Bidirectional LSTM For Sequence Classification](https://machinelearningmastery.com/develop-bidirectional-lstm-sequence-classification-python-keras/)"
   ]
  },
  {
   "cell_type": "code",
   "execution_count": 15,
   "metadata": {},
   "outputs": [],
   "source": [
    "def build_model_rnn(params):\n",
    "    \"\"\"Builds a rnn classifier (only partially) based on the provided params \n",
    "\n",
    "    Parameters\n",
    "    ----------\n",
    "    params: dict\n",
    "        The dictionary containing the parameters\n",
    "    \"\"\"\n",
    "    \n",
    "    from tensorflow import keras\n",
    "    \n",
    "    # choose the output activation function based on the classification type\n",
    "    classification_type = params.get(\"classification_type\", \"binary\")\n",
    "    if classification_type == \"binary\":\n",
    "        output_activation = \"sigmoid\"\n",
    "    elif classification_type == \"multi-class\":\n",
    "        output_activation = \"softmax\"\n",
    "    elif classification_type == \"multi-label\":\n",
    "        output_activation = \"sigmoid\"\n",
    "    else:\n",
    "        raise TypeError(\"Unknown classification_type \"+classification_type)\n",
    "    \n",
    "    X_column_name = params.get(\"X_column_name\", \"text_clean\")\n",
    "    computed_objects_column_name = params.get(\"computed_objects_column_name\", \"computed_objects\")\n",
    "    vectorize_layer = params[computed_objects_column_name][\"vectorize_layer\"]\n",
    "    embedding_layer = params[computed_objects_column_name][\"embedding_layer\"]\n",
    "    label_binarizer = params[computed_objects_column_name][\"label_binarizer\"]\n",
    "    output_classes = len(label_binarizer.classes_)\n",
    "    output_classes = output_classes if output_classes > 2 else 1\n",
    "    \n",
    "    \n",
    "    # Build a separate model for training\n",
    "    model_train = keras.Sequential(name=\"rnn_train\")\n",
    "    # The input for the training model is already processes, i.e. vectorized.\n",
    "    # Offloading this step and prefetching the data provides speedup during training \n",
    "    # After vectorization we have a tensor of shape (batch_size, output_sequence_length) containing vocab indices.\n",
    "    model_train.add(keras.Input(shape=(None,), dtype=tf.int64, name=\"preprocessed_input\"))\n",
    "    # Next, we add a layer to map those vocab indices into a space of dimensionality 'embedding_dim'. \n",
    "    model_train.add(embedding_layer)\n",
    "    \n",
    "    # build the RNN\n",
    "    rnn_units = 32\n",
    "    model_train.add(keras.layers.Bidirectional(\n",
    "        # dropout (regularization) could make sense here\n",
    "        keras.layers.LSTM(\n",
    "            rnn_units, \n",
    "            return_sequences=True # needed since we do a GlobalMaxPool1D\n",
    "        )\n",
    "    ))\n",
    "    # add global max pooling\n",
    "    model_train.add(keras.layers.GlobalMaxPool1D(name=\"global_max_pool\"))\n",
    "    # an alternative\n",
    "    # model_train.add(keras.layers.GlobalAveragePooling1D(name=\"global_average_pool\"))\n",
    "    # another alternative (but ensure fixed time dimension by setting TextVectorization.output_sequence_length and Embedding.input_length)\n",
    "    # model_train.add(keras.layers.Flatten(name=\"flatten\"))\n",
    "    # model_train.add(keras.layers.Dense(100, activation=\"relu\", name=\"dense\"))\n",
    "    \n",
    "    # do not forget Dropout (regularization) for a more sophisticated model\n",
    "    \n",
    "    # add the classification head\n",
    "    model_train.add(keras.layers.Dense(output_classes, activation=output_activation, name=\"prediction\"))\n",
    "    \n",
    "    \n",
    "    # Next we build the inference model that also contains the preprocessing (all in one)\n",
    "    model_inference = keras.Sequential(name=\"rnn_inference\")\n",
    "    # A text input layer\n",
    "    model_inference.add(keras.layers.InputLayer(input_shape=(1,), dtype=tf.string, name=X_column_name))\n",
    "    # Then we vectorize the text.\n",
    "    # After this layer, we have a tensor of shape (batch_size, output_sequence_length) containing vocab indices.\n",
    "    model_inference.add(vectorize_layer)\n",
    "    # Next we just re-use the training model \n",
    "    model_inference.add(model_train)\n",
    "    \n",
    "    return model_train, model_inference"
   ]
  },
  {
   "cell_type": "code",
   "execution_count": 16,
   "metadata": {},
   "outputs": [],
   "source": [
    "training_model, inference_model = build_model_rnn(params)"
   ]
  },
  {
   "cell_type": "code",
   "execution_count": 17,
   "metadata": {},
   "outputs": [
    {
     "name": "stdout",
     "output_type": "stream",
     "text": [
      "Model: \"rnn_train\"\n",
      "_________________________________________________________________\n",
      " Layer (type)                Output Shape              Param #   \n",
      "=================================================================\n",
      " embedding (Embedding)       (None, None, 300)         56937000  \n",
      "                                                                 \n",
      " bidirectional (Bidirectiona  (None, None, 64)         85248     \n",
      " l)                                                              \n",
      "                                                                 \n",
      " global_max_pool (GlobalMaxP  (None, 64)               0         \n",
      " ooling1D)                                                       \n",
      "                                                                 \n",
      " prediction (Dense)          (None, 1)                 65        \n",
      "                                                                 \n",
      "=================================================================\n",
      "Total params: 57,022,313\n",
      "Trainable params: 85,313\n",
      "Non-trainable params: 56,937,000\n",
      "_________________________________________________________________\n"
     ]
    }
   ],
   "source": [
    "training_model.summary()"
   ]
  },
  {
   "cell_type": "code",
   "execution_count": 18,
   "metadata": {},
   "outputs": [
    {
     "name": "stdout",
     "output_type": "stream",
     "text": [
      "Model: \"rnn_inference\"\n",
      "_________________________________________________________________\n",
      " Layer (type)                Output Shape              Param #   \n",
      "=================================================================\n",
      " text_vectorization (TextVec  (None, None)             0         \n",
      " torization)                                                     \n",
      "                                                                 \n",
      " rnn_train (Sequential)      (None, 1)                 57022313  \n",
      "                                                                 \n",
      "=================================================================\n",
      "Total params: 57,022,313\n",
      "Trainable params: 85,313\n",
      "Non-trainable params: 56,937,000\n",
      "_________________________________________________________________\n"
     ]
    }
   ],
   "source": [
    "inference_model.summary()"
   ]
  },
  {
   "cell_type": "markdown",
   "metadata": {},
   "source": [
    "Compile and train the model."
   ]
  },
  {
   "cell_type": "code",
   "execution_count": 19,
   "metadata": {},
   "outputs": [],
   "source": [
    "compile_model(params, training_model)"
   ]
  },
  {
   "cell_type": "code",
   "execution_count": 20,
   "metadata": {},
   "outputs": [
    {
     "name": "stdout",
     "output_type": "stream",
     "text": [
      "Epoch 1/10\n",
      "1656/1656 [==============================] - 38s 19ms/step - loss: 0.0867 - accuracy: 0.9672 - val_loss: 0.0581 - val_accuracy: 0.9786\n",
      "Epoch 2/10\n",
      "1656/1656 [==============================] - 29s 18ms/step - loss: 0.0542 - accuracy: 0.9801 - val_loss: 0.0570 - val_accuracy: 0.9789\n",
      "Epoch 3/10\n",
      "1656/1656 [==============================] - 29s 18ms/step - loss: 0.0459 - accuracy: 0.9833 - val_loss: 0.0546 - val_accuracy: 0.9805\n",
      "Epoch 4/10\n",
      "1656/1656 [==============================] - 29s 18ms/step - loss: 0.0400 - accuracy: 0.9856 - val_loss: 0.0495 - val_accuracy: 0.9826\n",
      "Epoch 5/10\n",
      "1656/1656 [==============================] - 30s 18ms/step - loss: 0.0358 - accuracy: 0.9872 - val_loss: 0.0502 - val_accuracy: 0.9814\n",
      "Epoch 6/10\n",
      "1656/1656 [==============================] - 30s 18ms/step - loss: 0.0317 - accuracy: 0.9888 - val_loss: 0.0554 - val_accuracy: 0.9801\n",
      "Epoch 7/10\n",
      "1656/1656 [==============================] - 30s 18ms/step - loss: 0.0279 - accuracy: 0.9904 - val_loss: 0.0576 - val_accuracy: 0.9817\n",
      "Epoch 8/10\n",
      "1656/1656 [==============================] - 30s 18ms/step - loss: 0.0244 - accuracy: 0.9918 - val_loss: 0.0596 - val_accuracy: 0.9802\n",
      "Epoch 9/10\n",
      "1656/1656 [==============================] - 29s 18ms/step - loss: 0.0219 - accuracy: 0.9925 - val_loss: 0.0629 - val_accuracy: 0.9802\n",
      "Epoch 10/10\n",
      "1656/1656 [==============================] - 31s 18ms/step - loss: 0.0196 - accuracy: 0.9935 - val_loss: 0.0673 - val_accuracy: 0.9793\n"
     ]
    }
   ],
   "source": [
    "params[\"training_epochs\"] = 10\n",
    "history = train_model(params, training_model, dataset_train_preprocessed, dataset_val_preprocessed)"
   ]
  },
  {
   "cell_type": "code",
   "execution_count": 21,
   "metadata": {},
   "outputs": [
    {
     "data": {
      "image/png": "[encoded data removed]",
      "text/plain": [
       "<Figure size 640x480 with 1 Axes>"
      ]
     },
     "metadata": {},
     "output_type": "display_data"
    },
    {
     "data": {
      "image/png": "[encoded data removed]",
      "text/plain": [
       "<Figure size 640x480 with 1 Axes>"
      ]
     },
     "metadata": {},
     "output_type": "display_data"
    }
   ],
   "source": [
    "plot_history(history)"
   ]
  },
  {
   "cell_type": "markdown",
   "metadata": {},
   "source": [
    "Quite overfitted. Training could stop after ~3 epochs and some regularizations (like dropout) could also make sense.  "
   ]
  },
  {
   "cell_type": "code",
   "execution_count": null,
   "metadata": {},
   "outputs": [],
   "source": []
  },
  {
   "cell_type": "markdown",
   "metadata": {},
   "source": [
    "Let's see if it is possible to further improve the model by unfreezing the embedding layer.\n",
    "\n",
    "Also see https://www.tensorflow.org/guide/keras/transfer_learning"
   ]
  },
  {
   "cell_type": "code",
   "execution_count": 22,
   "metadata": {},
   "outputs": [
    {
     "name": "stdout",
     "output_type": "stream",
     "text": [
      "Model: \"rnn_train\"\n",
      "_________________________________________________________________\n",
      " Layer (type)                Output Shape              Param #   \n",
      "=================================================================\n",
      " embedding (Embedding)       (None, None, 300)         56937000  \n",
      "                                                                 \n",
      " bidirectional (Bidirectiona  (None, None, 64)         85248     \n",
      " l)                                                              \n",
      "                                                                 \n",
      " global_max_pool (GlobalMaxP  (None, 64)               0         \n",
      " ooling1D)                                                       \n",
      "                                                                 \n",
      " prediction (Dense)          (None, 1)                 65        \n",
      "                                                                 \n",
      "=================================================================\n",
      "Total params: 57,022,313\n",
      "Trainable params: 57,022,313\n",
      "Non-trainable params: 0\n",
      "_________________________________________________________________\n"
     ]
    }
   ],
   "source": [
    "# Unfreeze all layers (i.e. make embeddings trainable)\n",
    "training_model.trainable = True\n",
    "training_model.summary()"
   ]
  },
  {
   "cell_type": "code",
   "execution_count": 23,
   "metadata": {},
   "outputs": [],
   "source": [
    "re_compile_model(params, training_model)"
   ]
  },
  {
   "cell_type": "code",
   "execution_count": 24,
   "metadata": {},
   "outputs": [
    {
     "name": "stdout",
     "output_type": "stream",
     "text": [
      "Epoch 1/2\n",
      "1656/1656 [==============================] - 79s 44ms/step - loss: 0.0141 - accuracy: 0.9957 - val_loss: 0.0606 - val_accuracy: 0.9814\n",
      "Epoch 2/2\n",
      "1656/1656 [==============================] - 71s 43ms/step - loss: 0.0087 - accuracy: 0.9980 - val_loss: 0.0599 - val_accuracy: 0.9820\n"
     ]
    }
   ],
   "source": [
    "params[\"training_epochs\"] = 2\n",
    "history = train_model(params, training_model, dataset_train_preprocessed, dataset_val_preprocessed)"
   ]
  },
  {
   "cell_type": "code",
   "execution_count": null,
   "metadata": {},
   "outputs": [],
   "source": []
  },
  {
   "cell_type": "markdown",
   "metadata": {},
   "source": [
    "Check performance on all data."
   ]
  },
  {
   "cell_type": "code",
   "execution_count": 25,
   "metadata": {},
   "outputs": [],
   "source": [
    "from fhnw.nlp.utils.params import predict_classification\n",
    "from fhnw.nlp.utils.ploting import report_classification_results"
   ]
  },
  {
   "cell_type": "code",
   "execution_count": 26,
   "metadata": {},
   "outputs": [
    {
     "name": "stdout",
     "output_type": "stream",
     "text": [
      "2588/2588 [==============================] - 20s 7ms/step\n",
      "Set Population: 331187\n",
      "Accuracy: 0.9927\n"
     ]
    },
    {
     "data": {
      "image/png": "[encoded data removed]",
      "text/plain": [
       "<Figure size 1000x800 with 2 Axes>"
      ]
     },
     "metadata": {},
     "output_type": "display_data"
    },
    {
     "name": "stdout",
     "output_type": "stream",
     "text": [
      "              precision    recall  f1-score   support\n",
      "\n",
      "    negative       0.97      0.96      0.96     33022\n",
      "    positive       1.00      1.00      1.00    298165\n",
      "\n",
      "    accuracy                           0.99    331187\n",
      "   macro avg       0.98      0.98      0.98    331187\n",
      "weighted avg       0.99      0.99      0.99    331187\n",
      "\n",
      "CPU times: user 37.9 s, sys: 1.43 s, total: 39.3 s\n",
      "Wall time: 30.1 s\n"
     ]
    }
   ],
   "source": [
    "%%time\n",
    "\n",
    "preprocessor = create_text_preprocessor(params, False)\n",
    "\n",
    "y, y_pred, y_pred_prob = predict_classification(params, data, training_model, preprocessor)\n",
    "\n",
    "report_classification_results(params, y, y_pred)"
   ]
  },
  {
   "cell_type": "markdown",
   "metadata": {},
   "source": [
    "Check performance on test data."
   ]
  },
  {
   "cell_type": "code",
   "execution_count": 27,
   "metadata": {},
   "outputs": [
    {
     "name": "stdout",
     "output_type": "stream",
     "text": [
      "518/518 [==============================] - 4s 7ms/step\n",
      "Set Population: 66238\n",
      "Accuracy: 0.9825\n"
     ]
    },
    {
     "data": {
      "image/png": "[encoded data removed]",
      "text/plain": [
       "<Figure size 1000x800 with 2 Axes>"
      ]
     },
     "metadata": {},
     "output_type": "display_data"
    },
    {
     "name": "stdout",
     "output_type": "stream",
     "text": [
      "              precision    recall  f1-score   support\n",
      "\n",
      "    negative       0.92      0.90      0.91      6604\n",
      "    positive       0.99      0.99      0.99     59634\n",
      "\n",
      "    accuracy                           0.98     66238\n",
      "   macro avg       0.96      0.95      0.95     66238\n",
      "weighted avg       0.98      0.98      0.98     66238\n",
      "\n",
      "CPU times: user 7.54 s, sys: 385 ms, total: 7.92 s\n",
      "Wall time: 5.85 s\n"
     ]
    }
   ],
   "source": [
    "%%time\n",
    "\n",
    "preprocessor = create_text_preprocessor(params, False)\n",
    "\n",
    "y, y_pred, y_pred_prob = predict_classification(params, data_test, training_model, preprocessor)\n",
    "\n",
    "report_classification_results(params, y, y_pred)"
   ]
  },
  {
   "cell_type": "code",
   "execution_count": null,
   "metadata": {},
   "outputs": [],
   "source": []
  }
 ],
 "metadata": {
  "kernelspec": {
   "display_name": "Python 3 (ipykernel)",
   "language": "python",
   "name": "python3"
  },
  "language_info": {
   "codemirror_mode": {
    "name": "ipython",
    "version": 3
   },
   "file_extension": ".py",
   "mimetype": "text/x-python",
   "name": "python",
   "nbconvert_exporter": "python",
   "pygments_lexer": "ipython3",
   "version": "3.8.10"
  }
 },
 "nbformat": 4,
 "nbformat_minor": 2
}
