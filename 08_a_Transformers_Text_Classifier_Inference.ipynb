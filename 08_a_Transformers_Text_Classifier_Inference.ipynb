{
 "cells": [
  {
   "cell_type": "markdown",
   "metadata": {},
   "source": [
    "<img align=\"right\" width=\"400\" src=\"https://www.fhnw.ch/de/++theme++web16theme/assets/media/img/fachhochschule-nordwestschweiz-fhnw-logo.svg\" alt=\"FHNW Logo\">\n",
    "\n",
    "\n",
    "# Transformers Inference\n",
    "\n",
    "by Fabian Märki\n",
    "\n",
    "## Summary\n",
    "The aim of this notebook is to show how to use Huggingface sequence classification model.\n",
    "\n",
    "\n",
    "## Links\n",
    "- [Quick Tour](https://huggingface.co/docs/transformers/quicktour) on how to use huggingface transformers\n",
    "- [Course](https://huggingface.co/course/chapter1) on how to use Huggingface's transformer models (from simple using pipelines to complex implementing the training loop).\n",
    "- [Model](bert-base-multilingual-uncased-sentiment) used in this notebook\n",
    "\n",
    "\n",
    "<a href=\"https://colab.research.google.com/github/markif/2023_HS_DAS_NLP_Notebooks/blob/master/08_a_Transformers_Text_Classifier_Inference.ipynb\">\n",
    "  <img align=\"left\" src=\"https://colab.research.google.com/assets/colab-badge.svg\" alt=\"Open In Colab\"/>\n",
    "</a>"
   ]
  },
  {
   "cell_type": "code",
   "execution_count": 1,
   "metadata": {},
   "outputs": [],
   "source": [
    "%%capture\n",
    "\n",
    "!pip install 'fhnw-nlp-utils>=0.8.0,<0.9.0'\n",
    "\n",
    "from fhnw.nlp.utils.storage import load_dataframe\n",
    "from fhnw.nlp.utils.storage import download\n",
    "from fhnw.nlp.utils.system import set_log_level\n",
    "\n",
    "import pandas as pd\n",
    "import numpy as np\n",
    "\n",
    "set_log_level()\n",
    "import tensorflow as tf"
   ]
  },
  {
   "cell_type": "markdown",
   "metadata": {},
   "source": [
    "**Make sure that a GPU is available (see [here](https://www.tutorialspoint.com/google_colab/google_colab_using_free_gpu.htm))!!!**"
   ]
  },
  {
   "cell_type": "code",
   "execution_count": 2,
   "metadata": {},
   "outputs": [
    {
     "name": "stdout",
     "output_type": "stream",
     "text": [
      "OS name: posix\n",
      "Platform name: Linux\n",
      "Platform release: 5.19.0-38-generic\n",
      "Python version: 3.8.10\n",
      "CPU cores: 6\n",
      "RAM: 31.12GB total and 21.91GB available\n",
      "Tensorflow version: 2.12.0\n",
      "GPU is available\n",
      "GPU is a NVIDIA GeForce RTX 2070 with Max-Q Design with 8192MiB\n"
     ]
    }
   ],
   "source": [
    "from fhnw.nlp.utils.system import system_info\n",
    "print(system_info())"
   ]
  },
  {
   "cell_type": "code",
   "execution_count": 3,
   "metadata": {},
   "outputs": [
    {
     "name": "stdout",
     "output_type": "stream",
     "text": [
      "CPU times: user 6.55 s, sys: 1.38 s, total: 7.93 s\n",
      "Wall time: 4.36 s\n"
     ]
    }
   ],
   "source": [
    "%%time\n",
    "download(\"https://drive.switch.ch/index.php/s/0hE8wO4FbfGIJld/download\", \"data/german_doctor_reviews_tokenized.parq\")\n",
    "data = load_dataframe(\"data/german_doctor_reviews_tokenized.parq\")"
   ]
  },
  {
   "cell_type": "code",
   "execution_count": 4,
   "metadata": {},
   "outputs": [
    {
     "data": {
      "text/plain": [
       "(331187, 10)"
      ]
     },
     "execution_count": 4,
     "metadata": {},
     "output_type": "execute_result"
    }
   ],
   "source": [
    "# remove all neutral sentimens\n",
    "data = data.loc[(data[\"label\"] != \"neutral\")]\n",
    "data.shape"
   ]
  },
  {
   "cell_type": "code",
   "execution_count": 5,
   "metadata": {},
   "outputs": [
    {
     "data": {
      "text/html": [
       "<div>\n",
       "<style scoped>\n",
       "    .dataframe tbody tr th:only-of-type {\n",
       "        vertical-align: middle;\n",
       "    }\n",
       "\n",
       "    .dataframe tbody tr th {\n",
       "        vertical-align: top;\n",
       "    }\n",
       "\n",
       "    .dataframe thead th {\n",
       "        text-align: right;\n",
       "    }\n",
       "</style>\n",
       "<table border=\"1\" class=\"dataframe\">\n",
       "  <thead>\n",
       "    <tr style=\"text-align: right;\">\n",
       "      <th></th>\n",
       "      <th>text_original</th>\n",
       "      <th>rating</th>\n",
       "      <th>text</th>\n",
       "      <th>label</th>\n",
       "      <th>sentiment</th>\n",
       "      <th>token_clean</th>\n",
       "      <th>text_clean</th>\n",
       "      <th>token_lemma</th>\n",
       "      <th>token_stem</th>\n",
       "      <th>token_clean_stopwords</th>\n",
       "    </tr>\n",
       "  </thead>\n",
       "  <tbody>\n",
       "    <tr>\n",
       "      <th>0</th>\n",
       "      <td>Ich bin franzose und bin seit ein paar Wochen ...</td>\n",
       "      <td>2.0</td>\n",
       "      <td>Ich bin franzose und bin seit ein paar Wochen ...</td>\n",
       "      <td>positive</td>\n",
       "      <td>1</td>\n",
       "      <td>[ich, bin, franzose, und, bin, seit, ein, paar...</td>\n",
       "      <td>ich bin franzose und bin seit ein paar wochen ...</td>\n",
       "      <td>[franzose, seit, paar, wochen, muenchen, zahn,...</td>\n",
       "      <td>[franzos, seit, paar, woch, muench, ., zahn, s...</td>\n",
       "      <td>[franzose, seit, paar, wochen, muenchen, ., za...</td>\n",
       "    </tr>\n",
       "    <tr>\n",
       "      <th>1</th>\n",
       "      <td>Dieser Arzt ist das unmöglichste was mir in me...</td>\n",
       "      <td>6.0</td>\n",
       "      <td>Dieser Arzt ist das unmöglichste was mir in me...</td>\n",
       "      <td>negative</td>\n",
       "      <td>-1</td>\n",
       "      <td>[dieser, arzt, ist, das, unmöglichste, was, mi...</td>\n",
       "      <td>dieser arzt ist das unmöglichste was mir in me...</td>\n",
       "      <td>[arzt, unmöglichste, leben, je, begegnen, unfr...</td>\n",
       "      <td>[arzt, unmog, leb, je, begegnet, unfreund, ,, ...</td>\n",
       "      <td>[arzt, unmöglichste, leben, je, begegnet, unfr...</td>\n",
       "    </tr>\n",
       "    <tr>\n",
       "      <th>2</th>\n",
       "      <td>Hatte akute Beschwerden am Rücken. Herr Magura...</td>\n",
       "      <td>1.0</td>\n",
       "      <td>Hatte akute Beschwerden am Rücken. Herr Magura...</td>\n",
       "      <td>positive</td>\n",
       "      <td>1</td>\n",
       "      <td>[hatte, akute, beschwerden, am, rücken, ., her...</td>\n",
       "      <td>hatte akute beschwerden am rücken . herr magur...</td>\n",
       "      <td>[akut, beschwerden, rücken, magura, erste, arz...</td>\n",
       "      <td>[akut, beschwerd, ruck, ., magura, erst, arzt,...</td>\n",
       "      <td>[akute, beschwerden, rücken, ., magura, erste,...</td>\n",
       "    </tr>\n",
       "  </tbody>\n",
       "</table>\n",
       "</div>"
      ],
      "text/plain": [
       "                                       text_original  rating  \\\n",
       "0  Ich bin franzose und bin seit ein paar Wochen ...     2.0   \n",
       "1  Dieser Arzt ist das unmöglichste was mir in me...     6.0   \n",
       "2  Hatte akute Beschwerden am Rücken. Herr Magura...     1.0   \n",
       "\n",
       "                                                text     label  sentiment  \\\n",
       "0  Ich bin franzose und bin seit ein paar Wochen ...  positive          1   \n",
       "1  Dieser Arzt ist das unmöglichste was mir in me...  negative         -1   \n",
       "2  Hatte akute Beschwerden am Rücken. Herr Magura...  positive          1   \n",
       "\n",
       "                                         token_clean  \\\n",
       "0  [ich, bin, franzose, und, bin, seit, ein, paar...   \n",
       "1  [dieser, arzt, ist, das, unmöglichste, was, mi...   \n",
       "2  [hatte, akute, beschwerden, am, rücken, ., her...   \n",
       "\n",
       "                                          text_clean  \\\n",
       "0  ich bin franzose und bin seit ein paar wochen ...   \n",
       "1  dieser arzt ist das unmöglichste was mir in me...   \n",
       "2  hatte akute beschwerden am rücken . herr magur...   \n",
       "\n",
       "                                         token_lemma  \\\n",
       "0  [franzose, seit, paar, wochen, muenchen, zahn,...   \n",
       "1  [arzt, unmöglichste, leben, je, begegnen, unfr...   \n",
       "2  [akut, beschwerden, rücken, magura, erste, arz...   \n",
       "\n",
       "                                          token_stem  \\\n",
       "0  [franzos, seit, paar, woch, muench, ., zahn, s...   \n",
       "1  [arzt, unmog, leb, je, begegnet, unfreund, ,, ...   \n",
       "2  [akut, beschwerd, ruck, ., magura, erst, arzt,...   \n",
       "\n",
       "                               token_clean_stopwords  \n",
       "0  [franzose, seit, paar, wochen, muenchen, ., za...  \n",
       "1  [arzt, unmöglichste, leben, je, begegnet, unfr...  \n",
       "2  [akute, beschwerden, rücken, ., magura, erste,...  "
      ]
     },
     "execution_count": 5,
     "metadata": {},
     "output_type": "execute_result"
    }
   ],
   "source": [
    "data.head(3)"
   ]
  },
  {
   "cell_type": "code",
   "execution_count": 6,
   "metadata": {},
   "outputs": [],
   "source": [
    "%%capture\n",
    "\n",
    "!pip install transformers\n",
    "!pip install datasets"
   ]
  },
  {
   "cell_type": "code",
   "execution_count": 7,
   "metadata": {},
   "outputs": [],
   "source": [
    "from fhnw.nlp.utils.transformers import dataframe_to_dataset\n",
    "from fhnw.nlp.utils.transformers import dataframe_to_datasets\n",
    "from fhnw.nlp.utils.transformers import get_compute_device"
   ]
  },
  {
   "cell_type": "code",
   "execution_count": 8,
   "metadata": {},
   "outputs": [],
   "source": [
    "def get_compute_device():\n",
    "    \"\"\"Provides the device for the computation\n",
    "    \n",
    "    Returns\n",
    "    -------\n",
    "    str\n",
    "        The GPU device with number (cuda:0) or cpu\n",
    "    \"\"\"\n",
    "        \n",
    "    import tensorflow as tf\n",
    "    return \"cuda:0\" if tf.config.list_physical_devices(\"GPU\") else \"cpu\""
   ]
  },
  {
   "cell_type": "code",
   "execution_count": 9,
   "metadata": {},
   "outputs": [],
   "source": [
    "params = {\n",
    "    \"verbose\": True,\n",
    "    \"shuffle\": True,\n",
    "    # modify batch_size in case you experience memory issues\n",
    "    \"batch_size\": 16,\n",
    "    \"X_column_name\": \"text_clean\",\n",
    "    \"y_column_name\": \"label\",\n",
    "    \"y_column_name_prediction\": \"prediction\",\n",
    "    \"compute_device\": get_compute_device(),\n",
    "    \"last_stored_batch\": -1,\n",
    "}"
   ]
  },
  {
   "cell_type": "markdown",
   "metadata": {},
   "source": [
    "Prepare the data first (will also set input_sequence_length to a reasonable number - see below)"
   ]
  },
  {
   "cell_type": "code",
   "execution_count": 10,
   "metadata": {},
   "outputs": [],
   "source": [
    "def dataframe_to_dataset(params, data):\n",
    "    \"\"\"Converts a dataframe into a Huggingface dataset\n",
    "\n",
    "    Parameters\n",
    "    ----------\n",
    "    params: dict\n",
    "        The dictionary containing the parameters\n",
    "    data: dataframe\n",
    "        The data\n",
    "        \n",
    "    Returns\n",
    "    -------\n",
    "    dataset\n",
    "        The Huggingface dataset\n",
    "    \"\"\"\n",
    "    \n",
    "    import pandas as pd\n",
    "    from fhnw.nlp.utils.params import compute_binarized_labels\n",
    "    from fhnw.nlp.utils.params import create_label_binarizer_and_set\n",
    "    \n",
    "    from datasets import ClassLabel\n",
    "    from datasets import Dataset\n",
    "    \n",
    "    X_column_name = params.get(\"X_column_name\", \"text\")\n",
    "    y_column_name = params.get(\"y_column_name\", \"label\")\n",
    "    computed_objects_column_name = params.get(\"computed_objects_column_name\", \"computed_objects\")\n",
    "    \n",
    "    data = data.drop(labels=data.columns.difference([X_column_name, y_column_name]), axis=1)\n",
    "    \n",
    "    # ensure label_binarizer builds on all data (function dataframe_to_dataset will use the existing)\n",
    "    label_binarizer = params.setdefault(computed_objects_column_name, {}).get(\"label_binarizer\", None)\n",
    "    if label_binarizer is None:\n",
    "        create_label_binarizer_and_set(params, data)\n",
    "        label_binarizer = params[computed_objects_column_name][\"label_binarizer\"]\n",
    "    num_classes = len(label_binarizer.classes_)\n",
    "    class_names = list(label_binarizer.classes_)\n",
    "    \n",
    "    data[y_column_name] = compute_binarized_labels(params, data)\n",
    "    \n",
    "    data.index.name = \"idx\"\n",
    "    \n",
    "    dataset = Dataset.from_pandas(data)\n",
    "    \n",
    "    dataset.features[\"label\"] = ClassLabel(num_classes=num_classes, names=class_names)\n",
    "    \n",
    "    return dataset"
   ]
  },
  {
   "cell_type": "code",
   "execution_count": 11,
   "metadata": {},
   "outputs": [
    {
     "name": "stdout",
     "output_type": "stream",
     "text": [
      "Inferred classification type: binary\n"
     ]
    }
   ],
   "source": [
    "dataset = dataframe_to_dataset(params, data)"
   ]
  },
  {
   "cell_type": "code",
   "execution_count": null,
   "metadata": {},
   "outputs": [],
   "source": []
  },
  {
   "cell_type": "code",
   "execution_count": 12,
   "metadata": {},
   "outputs": [],
   "source": [
    "from transformers import AutoTokenizer\n",
    "from transformers import AutoModelForSequenceClassification\n",
    "from transformers import TFAutoModelForSequenceClassification\n",
    "\n",
    "# see https://huggingface.co/nlptown/bert-base-multilingual-uncased-sentiment/tree/main \n",
    "#transformers_model_name = \"nlptown/bert-base-multilingual-uncased-sentiment\"\n",
    "#transformers_model_version = \"e06857f\" #can be the name of a branch or a commit hash\n",
    "# see https://huggingface.co/philschmid/distilbert-base-multilingual-cased-sentiment-2/tree/main \n",
    "transformers_model_name = \"philschmid/distilbert-base-multilingual-cased-sentiment-2\"\n",
    "transformers_model_version = \"83ff874\" #can be the name of a branch or a commit hash\n",
    "compute_device = get_compute_device()\n",
    "\n",
    "# use_fast=True selects the fast tokenizer which is available for almost all models   \n",
    "tokenizer = AutoTokenizer.from_pretrained(transformers_model_name, use_fast=True)\n",
    "model = AutoModelForSequenceClassification.from_pretrained(transformers_model_name).to(compute_device)"
   ]
  },
  {
   "cell_type": "code",
   "execution_count": 13,
   "metadata": {},
   "outputs": [],
   "source": [
    "def predict(params, texts):\n",
    "    \"\"\"Computes the prediction from a list of text\n",
    "\n",
    "    Parameters\n",
    "    ----------\n",
    "    params: dict\n",
    "        The dictionary containing the parameters\n",
    "    texts: list\n",
    "        The list of texts\n",
    "        \n",
    "    Returns\n",
    "    -------\n",
    "    list\n",
    "        The predictions\n",
    "    \"\"\"\n",
    "        \n",
    "    input_sequence_length = params.get(\"input_sequence_length\", 256)\n",
    "    compute_device = params.get(\"compute_device\", \"cpu\")\n",
    "    \n",
    "    batch = tokenizer(\n",
    "            texts,\n",
    "            padding=True,\n",
    "            max_length=input_sequence_length,\n",
    "            truncation=True,     \n",
    "            return_tensors=\"pt\",\n",
    "        ).to(compute_device)\n",
    "    model_outputs = model(**batch)\n",
    "    \n",
    "    return get_labels(model_outputs)\n",
    "    \n",
    "\n",
    "def get_labels(model_outputs):\n",
    "    \"\"\"Computes the prediction from a list of text\n",
    "\n",
    "    Parameters\n",
    "    ----------\n",
    "    model_outputs: Tensor\n",
    "        The output of the model\n",
    "        \n",
    "    Returns\n",
    "    -------\n",
    "    list\n",
    "        The predictions\n",
    "    \"\"\"\n",
    "    \n",
    "    import torch\n",
    "    \n",
    "    # oritinal model predicts a 5 star rating\n",
    "    predictions = torch.nn.functional.softmax(model_outputs.logits, dim=1)\n",
    "    _, predictions = torch.max(predictions, 1)\n",
    "    \n",
    "    if len(predictions) > 1:\n",
    "        return [\"positive\" if pred >= 2 else \"negative\" for (idx,pred) in enumerate(predictions)]\n",
    "    else:\n",
    "        return \"positive\" if predictions[0] >= 2 else \"negative\""
   ]
  },
  {
   "cell_type": "code",
   "execution_count": 14,
   "metadata": {},
   "outputs": [
    {
     "data": {
      "text/plain": [
       "['positive', 'negative', 'positive']"
      ]
     },
     "execution_count": 14,
     "metadata": {},
     "output_type": "execute_result"
    }
   ],
   "source": [
    "predict(params, data[params[\"X_column_name\"]].head(3).tolist())"
   ]
  },
  {
   "cell_type": "code",
   "execution_count": null,
   "metadata": {},
   "outputs": [],
   "source": []
  },
  {
   "cell_type": "markdown",
   "metadata": {},
   "source": [
    "The prediction seems to work.\n",
    "\n",
    "Let's put this into a Pipeline (see also [here](https://huggingface.co/docs/transformers/add_new_pipeline))"
   ]
  },
  {
   "cell_type": "code",
   "execution_count": 15,
   "metadata": {},
   "outputs": [],
   "source": [
    "from transformers import Pipeline\n",
    "\n",
    "class DoctorReviewsSentimentPipeline(Pipeline):\n",
    "    \n",
    "    def _sanitize_parameters(self, **kwargs):\n",
    "        preprocess_kwargs = {}\n",
    "        if \"input_sequence_length\" in kwargs:\n",
    "            preprocess_kwargs[\"input_sequence_length\"] = kwargs[\"input_sequence_length\"]\n",
    "        return preprocess_kwargs, {}, {}\n",
    "\n",
    "    def preprocess(self, text, input_sequence_length=256):\n",
    "        # max_length can have a major performance impact (choose it wisely).\n",
    "        # if there are occasional very long sentence compared to the others, \n",
    "        # the whole batch will need to be 256 tokens long (i.e. [batch_size, 256]),\n",
    "        # leading to a slowdown (on bigger batches the program might even crash).\n",
    "        #\n",
    "        # So it could make sense to choose a shorter input_sequence_length\n",
    "        # (however, there is a tradeoff between model performance vs. compute performance)\n",
    "        return self.tokenizer(text, \n",
    "                              padding=True, \n",
    "                              truncation=True, \n",
    "                              max_length=input_sequence_length, \n",
    "                              return_tensors=self.framework)\n",
    "\n",
    "    def _forward(self, model_inputs):\n",
    "        return self.model(**model_inputs)\n",
    "\n",
    "    def postprocess(self, model_outputs):\n",
    "        return get_labels(model_outputs)"
   ]
  },
  {
   "cell_type": "code",
   "execution_count": 16,
   "metadata": {},
   "outputs": [],
   "source": [
    "from transformers.pipelines import PIPELINE_REGISTRY"
   ]
  },
  {
   "cell_type": "code",
   "execution_count": 17,
   "metadata": {},
   "outputs": [],
   "source": [
    "PIPELINE_REGISTRY.register_pipeline(\n",
    "    \"doctor-reviews-sentiment\",\n",
    "    pipeline_class=DoctorReviewsSentimentPipeline,\n",
    "    pt_model=AutoModelForSequenceClassification,\n",
    "    tf_model=TFAutoModelForSequenceClassification,\n",
    "    default={\"pt\": (transformers_model_name, transformers_model_version)},\n",
    "    type=\"text\",\n",
    ")"
   ]
  },
  {
   "cell_type": "code",
   "execution_count": 18,
   "metadata": {},
   "outputs": [],
   "source": [
    "from transformers import pipeline"
   ]
  },
  {
   "cell_type": "code",
   "execution_count": 19,
   "metadata": {},
   "outputs": [
    {
     "name": "stderr",
     "output_type": "stream",
     "text": [
      "No model was supplied, defaulted to philschmid/distilbert-base-multilingual-cased-sentiment-2 and revision 83ff874 (https://huggingface.co/philschmid/distilbert-base-multilingual-cased-sentiment-2).\n",
      "Using a pipeline without specifying a model name and revision in production is not recommended.\n"
     ]
    }
   ],
   "source": [
    "sentiment_pipeline = pipeline(\"doctor-reviews-sentiment\", \n",
    "                              #model = transformers_model_name,\n",
    "                              device = params.get(\"compute_device\", \"cpu\"),\n",
    "                              input_sequence_length = params.get(\"input_sequence_length\", 256)\n",
    "                             )"
   ]
  },
  {
   "cell_type": "code",
   "execution_count": 20,
   "metadata": {},
   "outputs": [
    {
     "data": {
      "text/plain": [
       "['positive', 'negative', 'positive']"
      ]
     },
     "execution_count": 20,
     "metadata": {},
     "output_type": "execute_result"
    }
   ],
   "source": [
    "sentiment_pipeline(data[params[\"X_column_name\"]].head(3).tolist())"
   ]
  },
  {
   "cell_type": "code",
   "execution_count": 21,
   "metadata": {},
   "outputs": [],
   "source": [
    "from transformers.pipelines.pt_utils import KeyDataset\n",
    "\n",
    "pred_iter = sentiment_pipeline(KeyDataset(dataset, params[\"X_column_name\"]), batch_size=params.get(\"batch_size\", 16))"
   ]
  },
  {
   "cell_type": "code",
   "execution_count": 22,
   "metadata": {},
   "outputs": [
    {
     "name": "stdout",
     "output_type": "stream",
     "text": [
      "CPU times: user 29min 13s, sys: 285 ms, total: 29min 13s\n",
      "Wall time: 29min 13s\n"
     ]
    }
   ],
   "source": [
    "%%time \n",
    "\n",
    "# evaluate PipelineIterator\n",
    "preds = [x for x in pred_iter]"
   ]
  },
  {
   "cell_type": "code",
   "execution_count": null,
   "metadata": {},
   "outputs": [],
   "source": []
  },
  {
   "cell_type": "code",
   "execution_count": 23,
   "metadata": {
    "scrolled": true
   },
   "outputs": [
    {
     "name": "stdout",
     "output_type": "stream",
     "text": [
      "Set Population: 331187\n",
      "Accuracy: 0.8753\n"
     ]
    },
    {
     "data": {
      "image/png": "[encoded data removed]",
      "text/plain": [
       "<Figure size 1000x800 with 2 Axes>"
      ]
     },
     "metadata": {},
     "output_type": "display_data"
    },
    {
     "name": "stdout",
     "output_type": "stream",
     "text": [
      "              precision    recall  f1-score   support\n",
      "\n",
      "    negative       0.44      0.91      0.59     33022\n",
      "    positive       0.99      0.87      0.93    298165\n",
      "\n",
      "    accuracy                           0.88    331187\n",
      "   macro avg       0.71      0.89      0.76    331187\n",
      "weighted avg       0.93      0.88      0.89    331187\n",
      "\n"
     ]
    }
   ],
   "source": [
    "from fhnw.nlp.utils.ploting import report_classification_results\n",
    "\n",
    "report_classification_results(params, data[params[\"y_column_name\"]].to_list(), preds)"
   ]
  },
  {
   "cell_type": "code",
   "execution_count": null,
   "metadata": {},
   "outputs": [],
   "source": []
  },
  {
   "cell_type": "markdown",
   "metadata": {},
   "source": [
    "bert\n",
    "nlptown/bert-base-multilingual-uncased-sentiment has a better performance (runtime ~54min)\n",
    "\n",
    "              precision    recall  f1-score   support\n",
    "\n",
    "    negative       0.76      0.87      0.81     33022\n",
    "    positive       0.98      0.97      0.98    298168\n",
    "\n",
    "    accuracy                           0.96    331190\n",
    "    macro avg      0.87      0.92      0.89    331190\n",
    "    weighted avg   0.96      0.96      0.96    331190\n",
    "    \n",
    "    \n",
    "\n",
    "distilbert\n",
    "philschmid/distilbert-base-multilingual-cased-sentiment-2 (runtime ~29min)\n",
    "\n",
    "              precision    recall  f1-score   support\n",
    "\n",
    "    negative       0.44      0.91      0.59     33022\n",
    "    positive       0.99      0.87      0.93    298165\n",
    "\n",
    "    accuracy                           0.88    331187\n",
    "    macro avg      0.71      0.89      0.76    331187\n",
    "    weighted avg   0.93      0.88      0.89    331187"
   ]
  },
  {
   "cell_type": "code",
   "execution_count": null,
   "metadata": {},
   "outputs": [],
   "source": []
  }
 ],
 "metadata": {
  "kernelspec": {
   "display_name": "Python 3 (ipykernel)",
   "language": "python",
   "name": "python3"
  },
  "language_info": {
   "codemirror_mode": {
    "name": "ipython",
    "version": 3
   },
   "file_extension": ".py",
   "mimetype": "text/x-python",
   "name": "python",
   "nbconvert_exporter": "python",
   "pygments_lexer": "ipython3",
   "version": "3.8.10"
  }
 },
 "nbformat": 4,
 "nbformat_minor": 2
}
