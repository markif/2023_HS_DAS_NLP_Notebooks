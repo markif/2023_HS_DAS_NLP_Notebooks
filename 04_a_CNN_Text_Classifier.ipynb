{
 "cells": [
  {
   "cell_type": "markdown",
   "metadata": {},
   "source": [
    "<img align=\"right\" width=\"400\" src=\"https://www.fhnw.ch/de/++theme++web16theme/assets/media/img/fachhochschule-nordwestschweiz-fhnw-logo.svg\" alt=\"FHNW Logo\">\n",
    "\n",
    "\n",
    "# CNN Text Classifier\n",
    "\n",
    "by Fabian Märki\n",
    "\n",
    "## Summary\n",
    "The aim of this notebook is to build a CNN text classifier. It utilize pretrained word embeddings in order to take advantage of [transfer learning](https://machinelearningmastery.com/transfer-learning-for-deep-learning) in NLP. Additionally, it sets the stage for hyperparameter tuning and model design optimization.\n",
    "\n",
    "## Links\n",
    "- [Enabling GPU on Google Colab](https://www.tutorialspoint.com/google_colab/google_colab_using_free_gpu.htm)\n",
    "\n",
    "This notebook contains assigments: <font color='red'>Questions are written in red.</font>\n",
    "\n",
    "<a href=\"https://colab.research.google.com/github/markif/2023_HS_DAS_NLP_Notebooks/blob/master/04_a_CNN_Text_Classifier.ipynb\">\n",
    "  <img align=\"left\" src=\"https://colab.research.google.com/assets/colab-badge.svg\" alt=\"Open In Colab\"/>\n",
    "</a>"
   ]
  },
  {
   "cell_type": "code",
   "execution_count": 1,
   "metadata": {},
   "outputs": [],
   "source": [
    "%%capture\n",
    "\n",
    "!pip install 'fhnw-nlp-utils>=0.8.0,<0.9.0'\n",
    "\n",
    "from fhnw.nlp.utils.storage import load_dataframe\n",
    "from fhnw.nlp.utils.storage import download\n",
    "from fhnw.nlp.utils.system import set_log_level\n",
    "from fhnw.nlp.utils.colab import runs_on_colab\n",
    "\n",
    "import pandas as pd\n",
    "import numpy as np\n",
    "\n",
    "set_log_level()\n",
    "import tensorflow as tf"
   ]
  },
  {
   "cell_type": "code",
   "execution_count": 2,
   "metadata": {},
   "outputs": [
    {
     "name": "stdout",
     "output_type": "stream",
     "text": [
      "OS name: posix\n",
      "Platform name: Linux\n",
      "Platform release: 5.19.0-41-generic\n",
      "Python version: 3.8.10\n",
      "CPU cores: 6\n",
      "RAM: 31.12GB total and 23.99GB available\n",
      "Tensorflow version: 2.12.0\n",
      "GPU is available\n",
      "GPU is a NVIDIA GeForce RTX 2070 with Max-Q Design with 8192MiB\n"
     ]
    }
   ],
   "source": [
    "from fhnw.nlp.utils.system import system_info\n",
    "print(system_info())"
   ]
  },
  {
   "cell_type": "markdown",
   "metadata": {},
   "source": [
    "Download the [cleaned](https://github.com/markif/2023_HS_CAS_NLP_LAB_Notebooks/blob/master/02_a_Text_Cleaning.ipynb) and [preprocessed](https://github.com/markif/2023_HS_CAS_NLP_LAB_Notebooks/blob/master/02_b_Text_Normalization.ipynb) doctor reviews dataset. "
   ]
  },
  {
   "cell_type": "code",
   "execution_count": 3,
   "metadata": {},
   "outputs": [
    {
     "name": "stdout",
     "output_type": "stream",
     "text": [
      "CPU times: user 6.76 s, sys: 1.54 s, total: 8.3 s\n",
      "Wall time: 4.5 s\n"
     ]
    }
   ],
   "source": [
    "%%time\n",
    "download(\"https://drive.switch.ch/index.php/s/0hE8wO4FbfGIJld/download\", \"data/german_doctor_reviews_tokenized.parq\")\n",
    "data = load_dataframe(\"data/german_doctor_reviews_tokenized.parq\")"
   ]
  },
  {
   "cell_type": "markdown",
   "metadata": {},
   "source": [
    "Exclude *neutral* ratings so that the task becomes a binary classification."
   ]
  },
  {
   "cell_type": "code",
   "execution_count": 4,
   "metadata": {},
   "outputs": [
    {
     "data": {
      "text/plain": [
       "(331187, 10)"
      ]
     },
     "execution_count": 4,
     "metadata": {},
     "output_type": "execute_result"
    }
   ],
   "source": [
    "# remove all neutral sentimens\n",
    "data = data.loc[(data[\"label\"] != \"neutral\")]\n",
    "data.shape"
   ]
  },
  {
   "cell_type": "code",
   "execution_count": 5,
   "metadata": {},
   "outputs": [
    {
     "data": {
      "text/html": [
       "<div>\n",
       "<style scoped>\n",
       "    .dataframe tbody tr th:only-of-type {\n",
       "        vertical-align: middle;\n",
       "    }\n",
       "\n",
       "    .dataframe tbody tr th {\n",
       "        vertical-align: top;\n",
       "    }\n",
       "\n",
       "    .dataframe thead th {\n",
       "        text-align: right;\n",
       "    }\n",
       "</style>\n",
       "<table border=\"1\" class=\"dataframe\">\n",
       "  <thead>\n",
       "    <tr style=\"text-align: right;\">\n",
       "      <th></th>\n",
       "      <th>text_original</th>\n",
       "      <th>rating</th>\n",
       "      <th>text</th>\n",
       "      <th>label</th>\n",
       "      <th>sentiment</th>\n",
       "      <th>token_clean</th>\n",
       "      <th>text_clean</th>\n",
       "      <th>token_lemma</th>\n",
       "      <th>token_stem</th>\n",
       "      <th>token_clean_stopwords</th>\n",
       "    </tr>\n",
       "  </thead>\n",
       "  <tbody>\n",
       "    <tr>\n",
       "      <th>0</th>\n",
       "      <td>Ich bin franzose und bin seit ein paar Wochen ...</td>\n",
       "      <td>2.0</td>\n",
       "      <td>Ich bin franzose und bin seit ein paar Wochen ...</td>\n",
       "      <td>positive</td>\n",
       "      <td>1</td>\n",
       "      <td>[ich, bin, franzose, und, bin, seit, ein, paar...</td>\n",
       "      <td>ich bin franzose und bin seit ein paar wochen ...</td>\n",
       "      <td>[franzose, seit, paar, wochen, muenchen, zahn,...</td>\n",
       "      <td>[franzos, seit, paar, woch, muench, ., zahn, s...</td>\n",
       "      <td>[franzose, seit, paar, wochen, muenchen, ., za...</td>\n",
       "    </tr>\n",
       "    <tr>\n",
       "      <th>1</th>\n",
       "      <td>Dieser Arzt ist das unmöglichste was mir in me...</td>\n",
       "      <td>6.0</td>\n",
       "      <td>Dieser Arzt ist das unmöglichste was mir in me...</td>\n",
       "      <td>negative</td>\n",
       "      <td>-1</td>\n",
       "      <td>[dieser, arzt, ist, das, unmöglichste, was, mi...</td>\n",
       "      <td>dieser arzt ist das unmöglichste was mir in me...</td>\n",
       "      <td>[arzt, unmöglichste, leben, je, begegnen, unfr...</td>\n",
       "      <td>[arzt, unmog, leb, je, begegnet, unfreund, ,, ...</td>\n",
       "      <td>[arzt, unmöglichste, leben, je, begegnet, unfr...</td>\n",
       "    </tr>\n",
       "    <tr>\n",
       "      <th>2</th>\n",
       "      <td>Hatte akute Beschwerden am Rücken. Herr Magura...</td>\n",
       "      <td>1.0</td>\n",
       "      <td>Hatte akute Beschwerden am Rücken. Herr Magura...</td>\n",
       "      <td>positive</td>\n",
       "      <td>1</td>\n",
       "      <td>[hatte, akute, beschwerden, am, rücken, ., her...</td>\n",
       "      <td>hatte akute beschwerden am rücken . herr magur...</td>\n",
       "      <td>[akut, beschwerden, rücken, magura, erste, arz...</td>\n",
       "      <td>[akut, beschwerd, ruck, ., magura, erst, arzt,...</td>\n",
       "      <td>[akute, beschwerden, rücken, ., magura, erste,...</td>\n",
       "    </tr>\n",
       "  </tbody>\n",
       "</table>\n",
       "</div>"
      ],
      "text/plain": [
       "                                       text_original  rating   \n",
       "0  Ich bin franzose und bin seit ein paar Wochen ...     2.0  \\\n",
       "1  Dieser Arzt ist das unmöglichste was mir in me...     6.0   \n",
       "2  Hatte akute Beschwerden am Rücken. Herr Magura...     1.0   \n",
       "\n",
       "                                                text     label  sentiment   \n",
       "0  Ich bin franzose und bin seit ein paar Wochen ...  positive          1  \\\n",
       "1  Dieser Arzt ist das unmöglichste was mir in me...  negative         -1   \n",
       "2  Hatte akute Beschwerden am Rücken. Herr Magura...  positive          1   \n",
       "\n",
       "                                         token_clean   \n",
       "0  [ich, bin, franzose, und, bin, seit, ein, paar...  \\\n",
       "1  [dieser, arzt, ist, das, unmöglichste, was, mi...   \n",
       "2  [hatte, akute, beschwerden, am, rücken, ., her...   \n",
       "\n",
       "                                          text_clean   \n",
       "0  ich bin franzose und bin seit ein paar wochen ...  \\\n",
       "1  dieser arzt ist das unmöglichste was mir in me...   \n",
       "2  hatte akute beschwerden am rücken . herr magur...   \n",
       "\n",
       "                                         token_lemma   \n",
       "0  [franzose, seit, paar, wochen, muenchen, zahn,...  \\\n",
       "1  [arzt, unmöglichste, leben, je, begegnen, unfr...   \n",
       "2  [akut, beschwerden, rücken, magura, erste, arz...   \n",
       "\n",
       "                                          token_stem   \n",
       "0  [franzos, seit, paar, woch, muench, ., zahn, s...  \\\n",
       "1  [arzt, unmog, leb, je, begegnet, unfreund, ,, ...   \n",
       "2  [akut, beschwerd, ruck, ., magura, erst, arzt,...   \n",
       "\n",
       "                               token_clean_stopwords  \n",
       "0  [franzose, seit, paar, wochen, muenchen, ., za...  \n",
       "1  [arzt, unmöglichste, leben, je, begegnet, unfr...  \n",
       "2  [akute, beschwerden, rücken, ., magura, erste,...  "
      ]
     },
     "execution_count": 5,
     "metadata": {},
     "output_type": "execute_result"
    }
   ],
   "source": [
    "data.head(3)"
   ]
  },
  {
   "cell_type": "markdown",
   "metadata": {},
   "source": [
    "Import some helper functions (later we will overwrite some functions in order to provide a better understanding of the process)..."
   ]
  },
  {
   "cell_type": "code",
   "execution_count": 6,
   "metadata": {},
   "outputs": [],
   "source": [
    "from fhnw.nlp.utils.ploting import plot_history\n",
    "\n",
    "from fhnw.nlp.utils.params import build_model_cnn\n",
    "from fhnw.nlp.utils.params import build_model_rnn\n",
    "from fhnw.nlp.utils.params import build_preprocessed_dataset\n",
    "from fhnw.nlp.utils.params import compile_model\n",
    "from fhnw.nlp.utils.params import create_label_binarizer_and_set\n",
    "from fhnw.nlp.utils.params import create_text_preprocessor\n",
    "from fhnw.nlp.utils.params import dataframe_to_dataset\n",
    "from fhnw.nlp.utils.params import extract_embedding_layer_and_set\n",
    "from fhnw.nlp.utils.params import extract_text_vectorization_and_set\n",
    "from fhnw.nlp.utils.params import extract_vocabulary_and_set\n",
    "from fhnw.nlp.utils.params import get_train_test_split\n",
    "from fhnw.nlp.utils.params import re_compile_model\n",
    "from fhnw.nlp.utils.params import save_model\n",
    "from fhnw.nlp.utils.params import train_model"
   ]
  },
  {
   "cell_type": "markdown",
   "metadata": {},
   "source": [
    "Setup the *params* dictionary which is used to specify hyperparameters and model design choices (and is also used to store intermediate results).  This sets the stage for a possible hyperparameter tuning and model design optimization (not part of this notebook)."
   ]
  },
  {
   "cell_type": "code",
   "execution_count": 7,
   "metadata": {},
   "outputs": [],
   "source": [
    "params = {\n",
    "    \"verbose\": True,\n",
    "    \"shuffle\": True,\n",
    "    \"n_samples\": len(data),\n",
    "    # modify batch_size in case you experience memory issues\n",
    "    \"batch_size\": 128,\n",
    "    \"X_column_name\": \"text_clean\",\n",
    "    \"y_column_name\": \"label\",\n",
    "    \"model_type\": \"cnn\",\n",
    "}\n",
    "\n",
    "if runs_on_colab():\n",
    "    # colab as problems handling such large files\n",
    "    model_name = \"cc.de.50.bin\"\n",
    "    download(\"https://drive.switch.ch/index.php/s/fncH84BgISMlT3v/download\", model_name)\n",
    "    params[\"embedding_dim\"] = 50\n",
    "    params[\"embedding_fasttext_model\"] = model_name"
   ]
  },
  {
   "cell_type": "markdown",
   "metadata": {},
   "source": [
    "...extract the vocabulary..."
   ]
  },
  {
   "cell_type": "code",
   "execution_count": 8,
   "metadata": {},
   "outputs": [
    {
     "name": "stdout",
     "output_type": "stream",
     "text": [
      "Inferred classification type: binary\n",
      "Median sequence length: 46\n",
      "Percentil (0.98) cutoff sequence length: 230\n",
      "Max sequence length: 408\n",
      "Used embedding sequence length: 230\n"
     ]
    }
   ],
   "source": [
    "create_label_binarizer_and_set(params, data)\n",
    "extract_vocabulary_and_set(params, data)"
   ]
  },
  {
   "cell_type": "markdown",
   "metadata": {},
   "source": [
    "### Keras TextVectorization layer\n",
    "Keras has a text preprocessing layer than can be placed before an embedding layer. The [TextVectorization](https://www.tensorflow.org/api_docs/python/tf/keras/layers/TextVectorization) layer accepts documents of various sizes. It pads sequences and tokenizes documents before they are passed to the embedding layer. At the embedding layer it can be used as an integer index (identifying the token/word) to access the embedding vectors."
   ]
  },
  {
   "cell_type": "code",
   "execution_count": 9,
   "metadata": {},
   "outputs": [],
   "source": [
    "def extract_text_vectorization_and_set(params):\n",
    "    \"\"\"Creates the TextVectorization layer and a vocabulary iterator and puts them into the params dictionary\n",
    "\n",
    "    Parameters\n",
    "    ----------\n",
    "    params: dict\n",
    "        The dictionary containing the parameters\n",
    "    \"\"\"\n",
    "    \n",
    "    # see https://towardsdatascience.com/you-should-try-the-new-tensorflows-textvectorization-layer-a80b3c6b00ee\n",
    "    try:\n",
    "        # for newer tf versions use\n",
    "        from tensorflow.keras.layers import TextVectorization\n",
    "    except ImportError:\n",
    "        from tensorflow.keras.layers.experimental.preprocessing import TextVectorization\n",
    "\n",
    "    verbose = params.get(\"verbose\", False)\n",
    "    output_sequence_length = params.get(\"output_sequence_length\", None)\n",
    "    computed_objects_column_name = params.get(\"computed_objects_column_name\", \"computed_objects\")\n",
    "    vocabulary = params.setdefault(computed_objects_column_name, {})[\"vocabulary\"]\n",
    "    \n",
    "    vectorize_layer = TextVectorization(\n",
    "        output_mode='int',\n",
    "        output_sequence_length=output_sequence_length,\n",
    "        vocabulary=list(vocabulary),\n",
    "        name=\"text_vectorization\"\n",
    "    )\n",
    "    \n",
    "    params.setdefault(computed_objects_column_name, {})[\"vocabulary_iterator\"] = vectorize_layer.get_vocabulary()\n",
    "    params.setdefault(computed_objects_column_name, {})[\"vectorize_layer\"] = vectorize_layer\n",
    "\n",
    "    if verbose:\n",
    "        print(\"Vocabulary length:\", vectorize_layer.vocabulary_size())"
   ]
  },
  {
   "cell_type": "code",
   "execution_count": 10,
   "metadata": {},
   "outputs": [
    {
     "name": "stdout",
     "output_type": "stream",
     "text": [
      "Vocabulary length: 189790\n"
     ]
    }
   ],
   "source": [
    "extract_text_vectorization_and_set(params)"
   ]
  },
  {
   "cell_type": "markdown",
   "metadata": {},
   "source": [
    "Import and load fasttext word embeddings"
   ]
  },
  {
   "cell_type": "code",
   "execution_count": 11,
   "metadata": {},
   "outputs": [],
   "source": [
    "%%capture\n",
    "\n",
    "!pip install fasttext\n",
    "\n",
    "import fasttext\n",
    "import fasttext.util\n",
    "from fhnw.nlp.utils.colab import runs_on_colab\n",
    "\n",
    "if runs_on_colab():\n",
    "    from fhnw.nlp.utils.storage import download\n",
    "    # colab as problems handling such large files\n",
    "    model_name = \"cc.de.50.bin\"\n",
    "    download(\"https://drive.google.com/uc?id=1iqw8UPEEVmzQQGmI5FkRJH8B5SkZCgXG\", model_name)\n",
    "else:\n",
    "    model_name = \"cc.de.300.bin\"\n",
    "    fasttext.util.download_model('de', if_exists='ignore')\n",
    "    \n",
    "ft = fasttext.load_model(model_name)"
   ]
  },
  {
   "cell_type": "markdown",
   "metadata": {},
   "source": [
    "<font color='red'>**TASK: Implement `embed_word` using [fasttext](https://fasttext.cc/docs/en/unsupervised-tutorial.html#printing-word-vectors) function and provide the functionality as described in the function documentation.**</font>"
   ]
  },
  {
   "cell_type": "markdown",
   "metadata": {},
   "source": [
    "You might get inspiration from: \n",
    "- [Pretrained Word Embeddings](https://towardsdatascience.com/pretrained-word-embeddings-using-spacy-and-keras-textvectorization-ef75ecd56360)"
   ]
  },
  {
   "cell_type": "code",
   "execution_count": 12,
   "metadata": {},
   "outputs": [],
   "source": [
    "def embed_word(word):\n",
    "    \"\"\"Provides a word embedding\n",
    "\n",
    "    Parameters\n",
    "    ----------\n",
    "    params: word\n",
    "        The word to embed\n",
    "    \"\"\"\n",
    "    \n",
    "    # TODO: !!! place your code here !!!\n",
    "    ####################################\n",
    "    # !!! this needs rework !!!\n",
    "    split = model_name.split(\".\")\n",
    "    model_dim = int(split[2])\n",
    "    return np.zeros(model_dim)\n",
    "\n",
    "    ###################\n",
    "    # TODO: !!! end !!!"
   ]
  },
  {
   "cell_type": "code",
   "execution_count": 13,
   "metadata": {},
   "outputs": [
    {
     "data": {
      "text/plain": [
       "array([-1.00356534e-01,  1.98468827e-02,  2.48073004e-02,  7.06050247e-02,\n",
       "        1.98300742e-02, -3.88746560e-02, -4.34984528e-02,  4.89945710e-02,\n",
       "        1.04627147e-01,  5.65351509e-02, -7.10811764e-02, -5.93297333e-02,\n",
       "        4.17218879e-02,  3.44845019e-02,  1.02639869e-01, -1.89471599e-02,\n",
       "        9.74735841e-02, -1.13834754e-01, -1.11242846e-01, -3.22935432e-02,\n",
       "        7.66527653e-02, -8.67330432e-02,  4.17482406e-02, -7.92364925e-02,\n",
       "       -5.29644429e-04,  2.38098130e-02,  4.14879844e-02,  6.87763914e-02,\n",
       "       -1.07984124e-02, -3.47629637e-02, -4.95724231e-02,  3.55521441e-02,\n",
       "       -1.52236251e-02,  1.78139266e-02,  4.51603755e-02,  6.61114156e-02,\n",
       "        5.33561818e-02, -7.07296049e-03,  7.54112601e-02, -3.21409255e-02,\n",
       "        5.20091765e-02, -2.71267351e-02,  3.36384997e-02, -8.52187872e-02,\n",
       "        2.48614307e-02, -4.47589271e-02,  1.85794570e-02,  9.29193199e-02,\n",
       "       -7.30394106e-03,  7.96798896e-03, -1.14537239e-01,  6.55219425e-03,\n",
       "       -9.12078023e-02,  6.02159351e-02, -2.42053308e-02, -1.62945073e-02,\n",
       "        8.01764131e-02,  2.97131613e-02,  1.97860524e-02, -5.97372130e-02,\n",
       "        2.19087559e-03,  3.32477503e-02,  2.93926205e-02,  7.41742402e-02,\n",
       "       -2.34975405e-02, -1.39535023e-02,  9.40229520e-02, -2.99921706e-02,\n",
       "       -9.51327085e-02, -6.22494966e-02, -2.24338472e-02, -1.01767711e-01,\n",
       "        4.84603457e-02,  1.02200918e-01,  8.57871622e-02, -3.23230885e-02,\n",
       "        8.27874616e-02, -2.49301121e-02,  1.51919601e-02,  3.26558091e-02,\n",
       "       -3.91639322e-02,  1.46302671e-04, -9.10825655e-02,  2.67633647e-02,\n",
       "       -1.92985144e-02,  1.09419137e-01,  1.31756570e-02, -7.62966499e-02,\n",
       "       -1.71288811e-02,  4.62547615e-02,  1.34328350e-01,  1.27218902e-01,\n",
       "       -5.34575507e-02,  2.74525322e-02,  2.25478020e-02,  4.16327491e-02,\n",
       "       -2.83629932e-02,  4.72560078e-02, -1.45199463e-01, -2.93197762e-02,\n",
       "        3.17722484e-02,  3.41247651e-03, -3.71029340e-02, -5.78313833e-03,\n",
       "        1.55670583e-01, -3.81845683e-02,  3.32102850e-02,  3.89265642e-03,\n",
       "       -5.72554134e-02, -2.29942403e-03, -6.33229017e-02,  5.16137034e-02,\n",
       "       -2.43819114e-02, -6.69466183e-02,  7.43526071e-02, -5.81842363e-02,\n",
       "        7.31679499e-02, -8.79510194e-02,  2.98254304e-02, -5.49272299e-02,\n",
       "       -1.42756388e-01, -7.54026473e-02,  4.63618990e-03, -1.53061366e-02,\n",
       "        9.13048536e-03,  3.46629173e-02, -3.92545834e-02, -5.42628169e-02,\n",
       "       -7.20404088e-03, -1.59594845e-02,  5.81802875e-02,  4.75660674e-02,\n",
       "       -6.15952536e-03,  7.62293190e-02, -1.77144818e-02,  8.65710340e-03,\n",
       "        1.05176680e-01,  2.81932717e-03, -7.96858035e-03, -4.32355218e-02,\n",
       "        8.37058648e-02, -8.62021893e-02,  9.32330489e-02, -6.39154837e-02,\n",
       "       -1.61227137e-02,  8.70288238e-02,  1.78676918e-02,  9.21765864e-02,\n",
       "       -3.20060775e-02,  5.45804715e-03, -4.81627695e-02,  1.15294032e-01,\n",
       "        9.47099552e-02,  1.99912917e-02, -3.59154716e-02,  2.02256083e-01,\n",
       "        1.21412061e-01,  1.32713988e-02,  9.47280079e-02, -1.40084416e-01,\n",
       "       -3.72391269e-02, -1.18063852e-01,  3.16695720e-02,  3.13971639e-02,\n",
       "       -7.42763653e-02, -2.53778826e-02,  6.99326694e-02,  4.21584174e-02,\n",
       "       -1.03100054e-02, -3.66286710e-02, -1.52935952e-01, -7.10102767e-02,\n",
       "        1.40948519e-02,  3.41588408e-02, -1.48806255e-02,  1.47819430e-01,\n",
       "        2.74355020e-02, -3.95819955e-02,  1.20115608e-01, -5.15609533e-02,\n",
       "        1.49365654e-02, -5.37049249e-02, -2.95568891e-02, -2.25660168e-02,\n",
       "       -2.25478411e-01, -2.85131894e-02,  7.30056763e-02, -5.29120378e-02,\n",
       "       -5.30997068e-02,  5.97462729e-02, -3.00288461e-02,  6.87097162e-02,\n",
       "        9.04462114e-03, -4.09258669e-03,  1.39971524e-02,  7.17068687e-02,\n",
       "        3.42906043e-02,  6.45562112e-02, -2.81555839e-02,  3.45456488e-02,\n",
       "        8.54447111e-02, -4.57039289e-02, -1.70923285e-02, -7.02005550e-02,\n",
       "        1.86490621e-02,  4.59722877e-02,  1.10038683e-01, -1.99437011e-02,\n",
       "       -4.84827384e-02,  2.45082751e-02,  1.40832067e-01,  2.37276014e-02,\n",
       "       -4.28488851e-02, -3.00642103e-02,  1.47149965e-01, -4.93571758e-02,\n",
       "        1.74380243e-02,  3.87527235e-02, -1.59548540e-02,  2.68530240e-03,\n",
       "       -1.06327161e-02,  2.24479027e-02,  5.90775013e-02,  3.57570089e-02,\n",
       "       -2.41377559e-02, -2.25350782e-02,  2.14426871e-02,  6.84097260e-02,\n",
       "        5.11552021e-02, -1.26254424e-01, -2.94591747e-02, -2.12792866e-02,\n",
       "        7.44283572e-03, -8.97315703e-03,  5.80314659e-02, -1.65870469e-02,\n",
       "        7.15618432e-02, -8.12978204e-03,  5.09518832e-02,  2.93959817e-03,\n",
       "        5.98998591e-02,  2.95689907e-02, -6.73374161e-02, -5.82055673e-02,\n",
       "       -3.55097316e-02,  3.00584137e-02, -2.08515432e-02, -7.14501143e-02,\n",
       "       -3.49302217e-02, -1.85602903e-01,  1.51196308e-03, -1.43349711e-02,\n",
       "        9.20909643e-02, -2.82034427e-02,  1.90443210e-02, -1.29394075e-02,\n",
       "        7.55024701e-03, -2.99851038e-02, -4.16278541e-02, -4.96631414e-02,\n",
       "       -7.91378170e-02,  3.83648723e-02, -1.25862565e-02, -7.10410178e-02,\n",
       "       -6.82962686e-02,  1.50980605e-02, -2.86530927e-02, -3.74372452e-02,\n",
       "       -1.62240177e-01, -1.47983534e-02,  5.43031096e-02, -4.75530140e-02,\n",
       "       -2.03616351e-01,  5.74911013e-02,  4.43408303e-02, -3.75839248e-02,\n",
       "        1.25556454e-01, -1.60974264e-03, -7.06867725e-02,  4.26353663e-02,\n",
       "       -8.51313695e-02, -4.86613922e-02, -4.46087532e-02, -1.15363896e-02,\n",
       "       -1.77657362e-02, -1.11255758e-01,  9.56298225e-03, -5.96325621e-02,\n",
       "       -6.71171993e-02,  1.01668090e-02,  8.20315443e-03,  1.09586827e-02,\n",
       "       -2.18494027e-03, -5.20144999e-02, -4.43647578e-02,  5.27742645e-03,\n",
       "        3.22544053e-02, -8.68701935e-03, -4.96717021e-02,  2.04143710e-02],\n",
       "      dtype=float32)"
      ]
     },
     "execution_count": 13,
     "metadata": {},
     "output_type": "execute_result"
    }
   ],
   "source": [
    "embed_word(\"Haus\")"
   ]
  },
  {
   "cell_type": "markdown",
   "metadata": {},
   "source": [
    "### Transforming the Embedding Dictionary to an Embedding Layer\n",
    "In order to use pre-trained embeddings in your model, you have to create a mapping from the word indices (provided by the TextVectorizer layer) to the word embedding vectors of the pre-trained embeddings. The embedding layer will use this index to look up the embedding, then pass the embeddings of each word in the input sequence to the next layer. \n",
    "\n",
    "Next, we will create and initialize the weights matrix for the embedding layer. The index position of each word in the vocabulary list (returned by TextVectorizer.get_vocabulary()) is the index that the TextVectorizer will return for each word. Thus we have to set the embedding vector for a word at this index.  We do this by looping over the words in the TextVectorizer vocabulary and the embedding dictionary. Each word encoding from the TextVectorizer will be the row index in the weights matrix and the vector accessed for that word will be the one from the embedding dictionary."
   ]
  },
  {
   "cell_type": "code",
   "execution_count": 14,
   "metadata": {},
   "outputs": [],
   "source": [
    "def calculate_embedding_matrix(params, embedder):\n",
    "    \"\"\"Creates the embedding matrix\n",
    "\n",
    "    Parameters\n",
    "    ----------\n",
    "    params: dict\n",
    "        The dictionary containing the parameters\n",
    "    embedder: function\n",
    "        The function to get the embedding for a word\n",
    "    \"\"\"    \n",
    "    \n",
    "    import numpy as np\n",
    "\n",
    "    computed_objects_column_name = params.get(\"computed_objects_column_name\", \"computed_objects\")\n",
    "    vocabulary_iterator = params.setdefault(computed_objects_column_name, {})[\"vocabulary_iterator\"]\n",
    "    tmp_embedding = embedder(\"haus\")\n",
    "    \n",
    "    if (tmp_embedding is not None) and len(tmp_embedding) > 0:\n",
    "        embedding_dim = len(tmp_embedding)\n",
    "    else:\n",
    "        embedding_dim = params[\"embedding_dim\"]\n",
    "    voc_size = len(vocabulary_iterator)\n",
    "    words_not_found = set()\n",
    "    embedding_matrix = np.zeros((voc_size, embedding_dim))\n",
    "\n",
    "    for idx, word in enumerate(vocabulary_iterator):\n",
    "        embedding_vector = embedder(word)\n",
    "        if (embedding_vector is not None) and len(embedding_vector) > 0 and not np.all(embedding_vector==0):\n",
    "            # words not found in embedding index will be all-zeros.\n",
    "            embedding_matrix[idx] = embedding_vector\n",
    "        else:\n",
    "            words_not_found.add(word)\n",
    "\n",
    "    if params[\"verbose\"]:\n",
    "        print(\"Embedding type:\", params.get(\"embedding_type\"))\n",
    "        print(\"Number of null word embeddings:\", np.sum(np.sum(embedding_matrix, axis=1) == 0))\n",
    "        nr_words_not_found = len(words_not_found)\n",
    "        print(\"Words not found in total:\", len(words_not_found))\n",
    "        if nr_words_not_found > 0:\n",
    "            import random\n",
    "            \n",
    "            nr_sample = min(20, len(words_not_found))\n",
    "            print(\"Words without embedding (\", nr_sample, \"/\", nr_words_not_found, \"): \", random.sample(words_not_found, nr_sample), sep='')\n",
    "    \n",
    "    return embedding_matrix\n",
    "\n",
    "\n",
    "def extract_embedding_layer_and_set(params):\n",
    "    \"\"\"Creates the Embedding layer and puts it into the params dictionary\n",
    "\n",
    "    Parameters\n",
    "    ----------\n",
    "    params: dict\n",
    "        The dictionary containing the parameters\n",
    "    \"\"\"\n",
    "    \n",
    "    import tensorflow as tf\n",
    "    from tensorflow import keras\n",
    "    \n",
    "    computed_objects_column_name = params.get(\"computed_objects_column_name\", \"computed_objects\")\n",
    "          \n",
    "    embedding_matrix = calculate_embedding_matrix(params, embed_word)       \n",
    "    embedding_layer = keras.layers.Embedding(\n",
    "                                          embedding_matrix.shape[0], \n",
    "                                          embedding_matrix.shape[1], \n",
    "                                          weights=[embedding_matrix],\n",
    "                                          input_length=params[\"embedding_input_sequence_length\"],\n",
    "                                          trainable=params.get(\"embedding_trainable\", False),\n",
    "                                          mask_zero = params.get(\"embedding_mask_zero\", True),\n",
    "                                          name=\"embedding\"\n",
    "                                         )\n",
    "        \n",
    "    params.setdefault(computed_objects_column_name, {})[\"embedding_layer\"] = embedding_layer"
   ]
  },
  {
   "cell_type": "code",
   "execution_count": 15,
   "metadata": {},
   "outputs": [
    {
     "name": "stdout",
     "output_type": "stream",
     "text": [
      "Embedding type: None\n",
      "Number of null word embeddings: 9\n",
      "Words not found in total: 9\n",
      "Words without embedding (9/9): ['úm', 'èn', 'äk', 'öä', '', 'jé', 'ìn', 'üw', 'öz']\n",
      "CPU times: user 3.68 s, sys: 265 ms, total: 3.94 s\n",
      "Wall time: 3.94 s\n"
     ]
    }
   ],
   "source": [
    "%%time\n",
    "\n",
    "extract_embedding_layer_and_set(params)"
   ]
  },
  {
   "cell_type": "markdown",
   "metadata": {},
   "source": [
    "...some words (without embedding) suggest that there still exist corrupt text..."
   ]
  },
  {
   "cell_type": "code",
   "execution_count": 16,
   "metadata": {},
   "outputs": [
    {
     "data": {
      "text/html": [
       "<div>\n",
       "<style scoped>\n",
       "    .dataframe tbody tr th:only-of-type {\n",
       "        vertical-align: middle;\n",
       "    }\n",
       "\n",
       "    .dataframe tbody tr th {\n",
       "        vertical-align: top;\n",
       "    }\n",
       "\n",
       "    .dataframe thead th {\n",
       "        text-align: right;\n",
       "    }\n",
       "</style>\n",
       "<table border=\"1\" class=\"dataframe\">\n",
       "  <thead>\n",
       "    <tr style=\"text-align: right;\">\n",
       "      <th></th>\n",
       "      <th>text_original</th>\n",
       "      <th>rating</th>\n",
       "      <th>text</th>\n",
       "      <th>label</th>\n",
       "      <th>sentiment</th>\n",
       "      <th>token_clean</th>\n",
       "      <th>text_clean</th>\n",
       "      <th>token_lemma</th>\n",
       "      <th>token_stem</th>\n",
       "      <th>token_clean_stopwords</th>\n",
       "    </tr>\n",
       "  </thead>\n",
       "  <tbody>\n",
       "    <tr>\n",
       "      <th>3264</th>\n",
       "      <td>Heute war ich zum ersten Mal gemeinsam mit mei...</td>\n",
       "      <td>1.0</td>\n",
       "      <td>Heute war ich zum ersten Mal gemeinsam mit mei...</td>\n",
       "      <td>positive</td>\n",
       "      <td>1</td>\n",
       "      <td>[heute, war, ich, zum, ersten, mal, gemeinsam,...</td>\n",
       "      <td>heute war ich zum ersten mal gemeinsam mit mei...</td>\n",
       "      <td>[heute, erst, mal, gemeinsam, jährig, tochter,...</td>\n",
       "      <td>[heut, erst, mal, gemeinsam, jahrig, tocht, pr...</td>\n",
       "      <td>[heute, ersten, mal, gemeinsam, jährigen, toch...</td>\n",
       "    </tr>\n",
       "  </tbody>\n",
       "</table>\n",
       "</div>"
      ],
      "text/plain": [
       "                                          text_original  rating   \n",
       "3264  Heute war ich zum ersten Mal gemeinsam mit mei...     1.0  \\\n",
       "\n",
       "                                                   text     label  sentiment   \n",
       "3264  Heute war ich zum ersten Mal gemeinsam mit mei...  positive          1  \\\n",
       "\n",
       "                                            token_clean   \n",
       "3264  [heute, war, ich, zum, ersten, mal, gemeinsam,...  \\\n",
       "\n",
       "                                             text_clean   \n",
       "3264  heute war ich zum ersten mal gemeinsam mit mei...  \\\n",
       "\n",
       "                                            token_lemma   \n",
       "3264  [heute, erst, mal, gemeinsam, jährig, tochter,...  \\\n",
       "\n",
       "                                             token_stem   \n",
       "3264  [heut, erst, mal, gemeinsam, jahrig, tocht, pr...  \\\n",
       "\n",
       "                                  token_clean_stopwords  \n",
       "3264  [heute, ersten, mal, gemeinsam, jährigen, toch...  "
      ]
     },
     "execution_count": 16,
     "metadata": {},
     "output_type": "execute_result"
    }
   ],
   "source": [
    "data[data[\"text_clean\"].str.contains(' úm ')]"
   ]
  },
  {
   "cell_type": "markdown",
   "metadata": {},
   "source": [
    "... seems to be ok..."
   ]
  },
  {
   "cell_type": "code",
   "execution_count": null,
   "metadata": {},
   "outputs": [],
   "source": []
  },
  {
   "cell_type": "markdown",
   "metadata": {},
   "source": [
    "...prepare the training/test/validation data..."
   ]
  },
  {
   "cell_type": "code",
   "execution_count": 17,
   "metadata": {},
   "outputs": [
    {
     "name": "stdout",
     "output_type": "stream",
     "text": [
      "264949 train examples\n",
      "66238 test examples\n",
      "211959 train examples\n",
      "52990 test examples\n"
     ]
    }
   ],
   "source": [
    "data_train, data_test = get_train_test_split(params, data)\n",
    "data_train, data_val = get_train_test_split(params, data_train)\n",
    "\n",
    "dataset_train = dataframe_to_dataset(params, data_train)\n",
    "dataset_test = dataframe_to_dataset(params, data_test)\n",
    "dataset_val = dataframe_to_dataset(params, data_val)"
   ]
  },
  {
   "cell_type": "code",
   "execution_count": 18,
   "metadata": {},
   "outputs": [
    {
     "name": "stdout",
     "output_type": "stream",
     "text": [
      "Test tf.Tensor(b'tolle \\xc3\\xa4rztin , h\\xc3\\xb6rt auch mal zu auch wenn es l\\xc3\\xa4nger dauert . sind umgezogen und halten ihr troztdem die treue ! ! wurde nie entt\\xc3\\xa4uscht', shape=(), dtype=string)\n",
      "Label: tf.Tensor(1, shape=(), dtype=int64)\n"
     ]
    }
   ],
   "source": [
    "for text, labels in dataset_train.take(1):\n",
    "    print(\"Test\", text)\n",
    "    print(\"Label:\", labels)"
   ]
  },
  {
   "cell_type": "markdown",
   "metadata": {},
   "source": [
    "Umlaute seem to have strange encoding - let's test first to be sure"
   ]
  },
  {
   "cell_type": "code",
   "execution_count": 19,
   "metadata": {},
   "outputs": [
    {
     "name": "stdout",
     "output_type": "stream",
     "text": [
      "tf.Tensor(b'\\xc3\\xa4rzte f\\xc3\\xbcr \\xf0\\x9f\\x98\\x8a unbekanntes_wort sp\\xc3\\xa4ter', shape=(), dtype=string)\n",
      "tf.Tensor([138910  27500      1      1 164950], shape=(5,), dtype=int64)\n"
     ]
    }
   ],
   "source": [
    "tensor = tf.constant(u\"ärzte für 😊 unbekanntes_wort später\")\n",
    "vec = params[\"computed_objects\"][\"vectorize_layer\"]\n",
    "\n",
    "print(tensor)\n",
    "print(vec(tensor))"
   ]
  },
  {
   "cell_type": "markdown",
   "metadata": {},
   "source": [
    "Seems to be able to map the words correctly to meaningfull indices (except unknown words/signs)."
   ]
  },
  {
   "cell_type": "code",
   "execution_count": null,
   "metadata": {},
   "outputs": [],
   "source": []
  },
  {
   "cell_type": "markdown",
   "metadata": {},
   "source": [
    "Some more helper function (overwrite them here in order to make the process clearer)..."
   ]
  },
  {
   "cell_type": "code",
   "execution_count": 20,
   "metadata": {},
   "outputs": [],
   "source": [
    "def get_loss_function(params):\n",
    "    \"\"\"Decides upon the loss function to use based on the provided params\n",
    "\n",
    "    Parameters\n",
    "    ----------\n",
    "    params: dict\n",
    "        The dictionary containing the parameters\n",
    "        \n",
    "    Returns\n",
    "    -------\n",
    "    str\n",
    "        The name of the loss function (or a callable)\n",
    "    \"\"\"\n",
    "        \n",
    "    classification_type = params.get(\"classification_type\", \"binary\")\n",
    "    \n",
    "    if classification_type == \"binary\":\n",
    "        model_loss_function = \"binary_crossentropy\"\n",
    "    elif classification_type == \"multi-class\":\n",
    "        model_loss_function = \"categorical_crossentropy\"\n",
    "    elif classification_type == \"multi-label\":\n",
    "        model_loss_function = \"binary_crossentropy\"\n",
    "    else:\n",
    "        raise TypeError(\"Unknown classification_type \"+classification_type)\n",
    "    \n",
    "    return model_loss_function\n",
    "\n",
    "\n",
    "def get_model_metric(params):\n",
    "    \"\"\"Provides the metric based on the provided params\n",
    "\n",
    "    Parameters\n",
    "    ----------\n",
    "    params: dict\n",
    "        The dictionary containing the parameters\n",
    "        \n",
    "    Returns\n",
    "    -------\n",
    "    list\n",
    "        The list of metrics to use\n",
    "    \"\"\"\n",
    "    \n",
    "    return params.get(\"model_metric\", [\"accuracy\"])\n",
    "\n",
    "\n",
    "def compile_model(params, model):\n",
    "    \"\"\"Compiles the model based on the provided params \n",
    "\n",
    "    Parameters\n",
    "    ----------\n",
    "    params: dict\n",
    "        The dictionary containing the parameters\n",
    "    model: model\n",
    "        The keras model\n",
    "    \"\"\"\n",
    "    \n",
    "    from tensorflow import keras\n",
    "        \n",
    "    optimizer_learning_rate = params.get(\"learning_rate\", 0.01)\n",
    "    optimizer_learning_rate_decay = params.get(\"optimizer_learning_rate_decay\", None)\n",
    "    model_metric = get_model_metric(params)\n",
    "    model_loss_function = get_loss_function(params)\n",
    "\n",
    "    # use legacy because otherwise re-compile/re-training does not work\n",
    "    adam = keras.optimizers.legacy.Adam(learning_rate=optimizer_learning_rate)\n",
    "    if optimizer_learning_rate_decay is not None:\n",
    "        adam = keras.optimizers.legacy.Adam(learning_rate=optimizer_learning_rate, decay=optimizer_learning_rate_decay)\n",
    "\n",
    "    #model.compile(loss=model_loss_function, optimizer=adam, metrics=model_metric, jit_compile=True)\n",
    "    model.compile(loss=model_loss_function, optimizer=adam, metrics=model_metric)\n",
    "    \n",
    "    \n",
    "def re_compile_model(params, model):\n",
    "    \"\"\"Re-compiles the model based on the provided params and the existing optimizer \n",
    "\n",
    "    Parameters\n",
    "    ----------\n",
    "    params: dict\n",
    "        The dictionary containing the parameters\n",
    "    model: model\n",
    "        The keras model\n",
    "    \"\"\"\n",
    "    \n",
    "    from tensorflow import keras\n",
    "    \n",
    "    # use a low learning rate for fine tuning\n",
    "    optimizer_learning_rate = params.get(\"learning_rate\", 1e-5)\n",
    "    model_metric = get_model_metric(params)\n",
    "    model_loss_function = get_loss_function(params)\n",
    "    \n",
    "    # keep existing internal parameters for further runs\n",
    "    optimizer = model.optimizer\n",
    "    optimizer.learning_rate.assign(optimizer_learning_rate)\n",
    "\n",
    "    model.compile(loss=model_loss_function, optimizer=optimizer, metrics=model_metric)\n",
    "\n",
    "\n",
    "def train_model(params, model, dataset_train, dataset_val):\n",
    "    \"\"\"Performs the model training \n",
    "\n",
    "    Parameters\n",
    "    ----------\n",
    "    params: dict\n",
    "        The dictionary containing the parameters\n",
    "    model: model\n",
    "        The keras model\n",
    "    dataset_train: tf Dataset\n",
    "        The dataset for training\n",
    "    dataset_val; tf Dataset\n",
    "        The dataset for validation\n",
    "        \n",
    "    Returns\n",
    "    -------\n",
    "    history\n",
    "        The training history\n",
    "    \"\"\"\n",
    "        \n",
    "    import os\n",
    "    import datetime\n",
    "    from tensorflow import keras\n",
    "\n",
    "    training_epochs = params.get(\"training_epochs\", 5)\n",
    "    \n",
    "    #training_logdir = params.get(\"training_logdir\", None)\n",
    "    #if training_logdir is None:\n",
    "    #    training_logdir = os.path.join(\"logs\", datetime.datetime.now().strftime(\"%Y%m%d-%H%M%S\"))\n",
    "    #tensorboard_callback = tf.keras.callbacks.TensorBoard(log_dir=\"logs\", histogram_freq=0, profile_batch=\"10, 15\")\n",
    "\n",
    "    history = model.fit(\n",
    "        dataset_train,\n",
    "        validation_data=dataset_val,\n",
    "        #callbacks=[tensorboard_callback],\n",
    "        epochs=training_epochs)\n",
    "    \n",
    "    return history"
   ]
  },
  {
   "cell_type": "code",
   "execution_count": null,
   "metadata": {},
   "outputs": [],
   "source": []
  },
  {
   "cell_type": "markdown",
   "metadata": {},
   "source": [
    "Next we will build our data pipeline. "
   ]
  },
  {
   "cell_type": "code",
   "execution_count": 21,
   "metadata": {},
   "outputs": [],
   "source": [
    "def create_text_preprocessor(params, training = False):\n",
    "    \"\"\"Creates a text preprocessor based on the provided params \n",
    "\n",
    "    Parameters\n",
    "    ----------\n",
    "    params: dict\n",
    "        The dictionary containing the parameters\n",
    "    training: bool\n",
    "        Indicates if it is for training or inference\n",
    "    \"\"\"\n",
    "    \n",
    "    computed_objects_column_name = params.get(\"computed_objects_column_name\", \"computed_objects\")\n",
    "    vectorize_layer = params[computed_objects_column_name][\"vectorize_layer\"]\n",
    "    \n",
    "    if training:\n",
    "        # preprocessing function for text and label data (e.g. vectorize training data (text and label))\n",
    "        text_preprocessor = lambda text, label: (vectorize_layer(text), label)\n",
    "    else:\n",
    "        # preprocessing function for text data (e.g. vectorize inference data (text only))\n",
    "        text_preprocessor = lambda text: vectorize_layer(text)\n",
    "\n",
    "    return text_preprocessor"
   ]
  },
  {
   "cell_type": "code",
   "execution_count": 22,
   "metadata": {},
   "outputs": [],
   "source": [
    "training_preprocessor = create_text_preprocessor(params, True)"
   ]
  },
  {
   "cell_type": "markdown",
   "metadata": {},
   "source": [
    "You can get some insights on building a training data pipeline for:\n",
    "- [An Introduction to Keras Preprocessing Layers](https://blog.tensorflow.org/2021/11/an-introduction-to-keras-preprocessing.html)\n",
    "- [Encoding Text as a Sequence of Token Indices](https://www.tensorflow.org/guide/keras/preprocessing_layers#encoding_text_as_a_sequence_of_token_indices)"
   ]
  },
  {
   "cell_type": "code",
   "execution_count": 23,
   "metadata": {},
   "outputs": [],
   "source": [
    "def build_preprocessed_dataset(params, dataset, training = False, preprocessor_time_intensive = None, preprocessor_memory_intensive = None):\n",
    "    \"\"\"Builds a preprocessed data pipeline optimized for GPUs \n",
    "\n",
    "    Parameters\n",
    "    ----------\n",
    "    params: dict\n",
    "        The dictionary containing the parameters\n",
    "    dataset: tf.data.Dataset\n",
    "        The Dataset\n",
    "    training: bool\n",
    "        Indicates if it is for training or inference\n",
    "    preprocessor_time_intensive: function\n",
    "        Time intensive preprocessing transformations\n",
    "    preprocessor_memory_intensive: function\n",
    "        Memory intensive preprocessing transformations\n",
    "    \"\"\"\n",
    "    \n",
    "    import tensorflow as tf\n",
    "    \n",
    "    batch_size = params.get(\"batch_size\", 64)\n",
    "    n_samples = params.get(\"n_samples\")\n",
    "\n",
    "    dataset_preprocessed = dataset\n",
    "    # vectorize later transformations through batching\n",
    "    dataset_preprocessed = dataset_preprocessed.batch(batch_size, num_parallel_calls=tf.data.AUTOTUNE)\n",
    "    # parallelize (time intensive) transformations\n",
    "    if preprocessor_time_intensive is not None:\n",
    "        dataset_preprocessed = dataset_preprocessed.map(preprocessor_time_intensive, num_parallel_calls=tf.data.AUTOTUNE)\n",
    "    # cache preprocessed data\n",
    "    dataset_preprocessed = dataset_preprocessed.cache()\n",
    "    # shuffle data (e.g. to improve training)\n",
    "    if training:\n",
    "        dataset_preprocessed = dataset_preprocessed.shuffle(buffer_size=n_samples)\n",
    "    # parallelize (memory intensive) transformations \n",
    "    if preprocessor_memory_intensive is not None:\n",
    "        dataset_preprocessed = dataset_preprocessed.map(preprocessor_memory_intensive, num_parallel_calls=tf.data.AUTOTUNE)\n",
    "    # prefetch data to overlap producer (e.g. preprocessing text data on CPU) and consumer (training tensor data on GPU)\n",
    "    dataset_preprocessed = dataset_preprocessed.prefetch(tf.data.AUTOTUNE)\n",
    "    \n",
    "    return dataset_preprocessed"
   ]
  },
  {
   "cell_type": "code",
   "execution_count": 24,
   "metadata": {},
   "outputs": [],
   "source": [
    "dataset_train_preprocessed = build_preprocessed_dataset(params, dataset_train, True, training_preprocessor)\n",
    "dataset_val_preprocessed = build_preprocessed_dataset(params, dataset_val, False, training_preprocessor)"
   ]
  },
  {
   "cell_type": "code",
   "execution_count": null,
   "metadata": {},
   "outputs": [],
   "source": []
  },
  {
   "cell_type": "markdown",
   "metadata": {},
   "source": [
    "Next we will build our model. "
   ]
  },
  {
   "cell_type": "markdown",
   "metadata": {},
   "source": [
    "<font color='red'>**TASK: Improve the CNN model defined in `build_model_cnn` (play with filter size, kernel size, activation function, model design etc...)**</font>"
   ]
  },
  {
   "cell_type": "markdown",
   "metadata": {},
   "source": [
    "You might get inspiration from:\n",
    "- [Conv1D with Global Max Pooling](https://colab.research.google.com/drive/1RvCnR7h0_l4Ekn5vINWToI9TNJdpUZB3#scrollTo=fAnI0YwfvXdG)\n",
    "- [Multichannel CNN Model for Text Classification](https://machinelearningmastery.com/develop-n-gram-multichannel-convolutional-neural-network-sentiment-analysis/)"
   ]
  },
  {
   "cell_type": "code",
   "execution_count": 25,
   "metadata": {},
   "outputs": [],
   "source": [
    "def build_model_cnn(params):\n",
    "    \"\"\"Builds a simple cnn classifier (only partially) based on the provided params \n",
    "\n",
    "    Parameters\n",
    "    ----------\n",
    "    params: dict\n",
    "        The dictionary containing the parameters\n",
    "    \"\"\"\n",
    "        \n",
    "    from tensorflow import keras\n",
    "    \n",
    "    # choose the output activation function based on the classification type\n",
    "    classification_type = params.get(\"classification_type\", \"binary\")\n",
    "    if classification_type == \"binary\":\n",
    "        output_activation = \"sigmoid\"\n",
    "    elif classification_type == \"multi-class\":\n",
    "        output_activation = \"softmax\"\n",
    "    elif classification_type == \"multi-label\":\n",
    "        output_activation = \"sigmoid\"\n",
    "    else:\n",
    "        raise TypeError(\"Unknown classification_type \"+classification_type)\n",
    "    \n",
    "    X_column_name = params.get(\"X_column_name\", \"text_clean\")\n",
    "    computed_objects_column_name = params.get(\"computed_objects_column_name\", \"computed_objects\")\n",
    "    vectorize_layer = params[computed_objects_column_name][\"vectorize_layer\"]\n",
    "    embedding_layer = params[computed_objects_column_name][\"embedding_layer\"]\n",
    "    label_binarizer = params[computed_objects_column_name][\"label_binarizer\"]\n",
    "    output_classes = len(label_binarizer.classes_)\n",
    "    output_classes = output_classes if output_classes > 2 else 1\n",
    "    \n",
    "    # Build a separate model for training\n",
    "    model_train = keras.Sequential(name=\"cnn_train\")\n",
    "    # The input for the training model is already processes, i.e. vectorized.\n",
    "    # Offloading this step and prefetching the data provides speedup during training \n",
    "    # After vectorization we have a tensor of shape (batch_size, output_sequence_length) containing vocab indices.\n",
    "    model_train.add(keras.Input(shape=(None,), dtype=tf.int64, name=\"preprocessed_input\"))\n",
    "    # Next, we add a layer to map those vocab indices into a space of dimensionality 'embedding_dim'. \n",
    "    model_train.add(embedding_layer)\n",
    "    \n",
    "    # build the CNN \n",
    "    cnn_conv_num_filters = 128\n",
    "    cnn_conv_kernel_size = 7\n",
    "    model_train.add(keras.layers.Conv1D(\n",
    "        cnn_conv_num_filters, \n",
    "        cnn_conv_kernel_size, \n",
    "        activation=\"relu\", \n",
    "        strides=1, \n",
    "        padding=\"valid\", # valid -> no padding, same -> zeros so that output has same dimensions\n",
    "        name=\"conv_1\"))\n",
    "    # add global max pooling\n",
    "    model_train.add(keras.layers.GlobalMaxPooling1D(name=\"global_max_pool_1\"))\n",
    "    # an alternative\n",
    "    # model_train.add(keras.layers.GlobalAveragePooling1D(name=\"global_average_pool\"))\n",
    "    # another alternative (but ensure fixed time dimension by setting TextVectorization.output_sequence_length and Embedding.input_length)\n",
    "    # model_train.add(keras.layers.Flatten(name=\"flatten\"))\n",
    "    # model_train.add(keras.layers.Dense(100, activation=\"relu\", name=\"dense\"))\n",
    "\n",
    "    # do not forget Dropout (regularization) for a more sophisticated model\n",
    "    \n",
    "    # add the classification head\n",
    "    model_train.add(keras.layers.Dense(output_classes, activation=output_activation, name=\"prediction\"))\n",
    "    \n",
    "    \n",
    "    # Next we build the inference model that also contains the preprocessing (all in one)\n",
    "    model_inference = keras.Sequential(name=\"cnn_inference\")\n",
    "    # A text input layer\n",
    "    model_inference.add(keras.layers.InputLayer(input_shape=(1,), dtype=tf.string, name=X_column_name))\n",
    "    # Then we vectorize the text.\n",
    "    # After this layer, we have a tensor of shape (batch_size, output_sequence_length) containing vocab indices.\n",
    "    model_inference.add(vectorize_layer)\n",
    "    # Next we just re-use the training model \n",
    "    model_inference.add(model_train)\n",
    "    \n",
    "    return model_train, model_inference"
   ]
  },
  {
   "cell_type": "code",
   "execution_count": 26,
   "metadata": {},
   "outputs": [],
   "source": [
    "training_model, inference_model = build_model_cnn(params)"
   ]
  },
  {
   "cell_type": "code",
   "execution_count": 27,
   "metadata": {},
   "outputs": [
    {
     "name": "stdout",
     "output_type": "stream",
     "text": [
      "Model: \"cnn_train\"\n",
      "_________________________________________________________________\n",
      " Layer (type)                Output Shape              Param #   \n",
      "=================================================================\n",
      " embedding (Embedding)       (None, None, 300)         56937000  \n",
      "                                                                 \n",
      " conv_1 (Conv1D)             (None, None, 128)         268928    \n",
      "                                                                 \n",
      " global_max_pool_1 (GlobalMa  (None, 128)              0         \n",
      " xPooling1D)                                                     \n",
      "                                                                 \n",
      " prediction (Dense)          (None, 1)                 129       \n",
      "                                                                 \n",
      "=================================================================\n",
      "Total params: 57,206,057\n",
      "Trainable params: 269,057\n",
      "Non-trainable params: 56,937,000\n",
      "_________________________________________________________________\n"
     ]
    }
   ],
   "source": [
    "training_model.summary()"
   ]
  },
  {
   "cell_type": "code",
   "execution_count": 28,
   "metadata": {},
   "outputs": [
    {
     "name": "stdout",
     "output_type": "stream",
     "text": [
      "Model: \"cnn_inference\"\n",
      "_________________________________________________________________\n",
      " Layer (type)                Output Shape              Param #   \n",
      "=================================================================\n",
      " text_vectorization (TextVec  (None, None)             0         \n",
      " torization)                                                     \n",
      "                                                                 \n",
      " cnn_train (Sequential)      (None, 1)                 57206057  \n",
      "                                                                 \n",
      "=================================================================\n",
      "Total params: 57,206,057\n",
      "Trainable params: 269,057\n",
      "Non-trainable params: 56,937,000\n",
      "_________________________________________________________________\n"
     ]
    }
   ],
   "source": [
    "inference_model.summary()"
   ]
  },
  {
   "cell_type": "markdown",
   "metadata": {},
   "source": [
    "Compile and train the model."
   ]
  },
  {
   "cell_type": "code",
   "execution_count": 29,
   "metadata": {},
   "outputs": [],
   "source": [
    "compile_model(params, training_model)"
   ]
  },
  {
   "cell_type": "code",
   "execution_count": 30,
   "metadata": {},
   "outputs": [
    {
     "name": "stdout",
     "output_type": "stream",
     "text": [
      "Epoch 1/10\n",
      "1656/1656 [==============================] - 55s 30ms/step - loss: 0.1171 - accuracy: 0.9535 - val_loss: 0.1023 - val_accuracy: 0.9578\n",
      "Epoch 2/10\n",
      "1656/1656 [==============================] - 21s 13ms/step - loss: 0.0780 - accuracy: 0.9702 - val_loss: 0.0837 - val_accuracy: 0.9690\n",
      "Epoch 3/10\n",
      "1656/1656 [==============================] - 21s 13ms/step - loss: 0.0668 - accuracy: 0.9752 - val_loss: 0.0758 - val_accuracy: 0.9729\n",
      "Epoch 4/10\n",
      "1656/1656 [==============================] - 21s 13ms/step - loss: 0.0591 - accuracy: 0.9781 - val_loss: 0.0793 - val_accuracy: 0.9715\n",
      "Epoch 5/10\n",
      "1656/1656 [==============================] - 21s 13ms/step - loss: 0.0522 - accuracy: 0.9808 - val_loss: 0.0777 - val_accuracy: 0.9723\n",
      "Epoch 6/10\n",
      "1656/1656 [==============================] - 21s 13ms/step - loss: 0.0455 - accuracy: 0.9831 - val_loss: 0.0868 - val_accuracy: 0.9701\n",
      "Epoch 7/10\n",
      "1656/1656 [==============================] - 21s 13ms/step - loss: 0.0410 - accuracy: 0.9855 - val_loss: 0.0877 - val_accuracy: 0.9715\n",
      "Epoch 8/10\n",
      "1656/1656 [==============================] - 21s 13ms/step - loss: 0.0359 - accuracy: 0.9870 - val_loss: 0.0962 - val_accuracy: 0.9696\n",
      "Epoch 9/10\n",
      "1656/1656 [==============================] - 21s 13ms/step - loss: 0.0324 - accuracy: 0.9887 - val_loss: 0.1061 - val_accuracy: 0.9699\n",
      "Epoch 10/10\n",
      "1656/1656 [==============================] - 21s 13ms/step - loss: 0.0285 - accuracy: 0.9901 - val_loss: 0.1147 - val_accuracy: 0.9697\n"
     ]
    }
   ],
   "source": [
    "params[\"training_epochs\"] = 10\n",
    "history = train_model(params, training_model, dataset_train_preprocessed, dataset_val_preprocessed)"
   ]
  },
  {
   "cell_type": "code",
   "execution_count": 31,
   "metadata": {},
   "outputs": [
    {
     "data": {
      "image/png": "[encoded data removed]",
      "text/plain": [
       "<Figure size 640x480 with 1 Axes>"
      ]
     },
     "metadata": {},
     "output_type": "display_data"
    },
    {
     "data": {
      "image/png": "[encoded data removed]",
      "text/plain": [
       "<Figure size 640x480 with 1 Axes>"
      ]
     },
     "metadata": {},
     "output_type": "display_data"
    }
   ],
   "source": [
    "plot_history(history)"
   ]
  },
  {
   "cell_type": "markdown",
   "metadata": {},
   "source": [
    "Quite overfitted. Training could stop after ~3 epochs and some regularizations (like dropout) could also make sense.  "
   ]
  },
  {
   "cell_type": "code",
   "execution_count": null,
   "metadata": {},
   "outputs": [],
   "source": []
  },
  {
   "cell_type": "markdown",
   "metadata": {},
   "source": [
    "Let's see if it is possible to further improve the model by unfreezing the embedding layer.\n",
    "\n",
    "Also see https://www.tensorflow.org/guide/keras/transfer_learning"
   ]
  },
  {
   "cell_type": "code",
   "execution_count": 32,
   "metadata": {},
   "outputs": [
    {
     "name": "stdout",
     "output_type": "stream",
     "text": [
      "Model: \"cnn_train\"\n",
      "_________________________________________________________________\n",
      " Layer (type)                Output Shape              Param #   \n",
      "=================================================================\n",
      " embedding (Embedding)       (None, None, 300)         56937000  \n",
      "                                                                 \n",
      " conv_1 (Conv1D)             (None, None, 128)         268928    \n",
      "                                                                 \n",
      " global_max_pool_1 (GlobalMa  (None, 128)              0         \n",
      " xPooling1D)                                                     \n",
      "                                                                 \n",
      " prediction (Dense)          (None, 1)                 129       \n",
      "                                                                 \n",
      "=================================================================\n",
      "Total params: 57,206,057\n",
      "Trainable params: 57,206,057\n",
      "Non-trainable params: 0\n",
      "_________________________________________________________________\n"
     ]
    }
   ],
   "source": [
    "# Unfreeze all layers (i.e. make embeddings trainable)\n",
    "training_model.trainable = True\n",
    "training_model.summary()"
   ]
  },
  {
   "cell_type": "code",
   "execution_count": 33,
   "metadata": {},
   "outputs": [],
   "source": [
    "re_compile_model(params, training_model)"
   ]
  },
  {
   "cell_type": "code",
   "execution_count": 34,
   "metadata": {},
   "outputs": [
    {
     "name": "stdout",
     "output_type": "stream",
     "text": [
      "Epoch 1/2\n",
      "1656/1656 [==============================] - 78s 47ms/step - loss: 0.0178 - accuracy: 0.9943 - val_loss: 0.1023 - val_accuracy: 0.9727\n",
      "Epoch 2/2\n",
      "1656/1656 [==============================] - 64s 39ms/step - loss: 0.0117 - accuracy: 0.9967 - val_loss: 0.1015 - val_accuracy: 0.9730\n"
     ]
    }
   ],
   "source": [
    "params[\"training_epochs\"] = 2\n",
    "history = train_model(params, training_model, dataset_train_preprocessed, dataset_val_preprocessed)"
   ]
  },
  {
   "cell_type": "code",
   "execution_count": null,
   "metadata": {},
   "outputs": [],
   "source": []
  },
  {
   "cell_type": "markdown",
   "metadata": {},
   "source": [
    "Let's see how we can make predictions..."
   ]
  },
  {
   "cell_type": "markdown",
   "metadata": {},
   "source": [
    "... and let's first use the inference model (which is more convenient since it does all in one, i.e. we do not have to care about preprocessing)."
   ]
  },
  {
   "cell_type": "code",
   "execution_count": 35,
   "metadata": {},
   "outputs": [
    {
     "name": "stdout",
     "output_type": "stream",
     "text": [
      "1/1 [==============================] - 0s 403ms/step\n",
      "CPU times: user 2.03 s, sys: 16.7 ms, total: 2.05 s\n",
      "Wall time: 2.07 s\n"
     ]
    }
   ],
   "source": [
    "%%time\n",
    "\n",
    "inference_data = [\"Ein super Arzt der auf seine Patienten eingeht.\", \"Ein schlechter Arzt der seinen Patienten nicht zuhört.\"]\n",
    "\n",
    "predictions = inference_model.predict(inference_data)"
   ]
  },
  {
   "cell_type": "markdown",
   "metadata": {},
   "source": [
    "... this should also be possible with custom preprocessing and then make predictions with the sub-model we used for training."
   ]
  },
  {
   "cell_type": "code",
   "execution_count": 36,
   "metadata": {},
   "outputs": [
    {
     "name": "stdout",
     "output_type": "stream",
     "text": [
      "1/1 [==============================] - 0s 55ms/step\n",
      "CPU times: user 214 ms, sys: 8.54 ms, total: 223 ms\n",
      "Wall time: 225 ms\n"
     ]
    }
   ],
   "source": [
    "%%time\n",
    "\n",
    "inference_preprocessor = create_text_preprocessor(params, False)\n",
    "\n",
    "inference_data = [\"Ein super Arzt der auf seine Patienten eingeht.\", \"Ein schlechter Arzt der seinen Patienten nicht zuhört.\"]\n",
    "inference_data = inference_preprocessor(inference_data)\n",
    "\n",
    "predictions = training_model.predict(inference_data)"
   ]
  },
  {
   "cell_type": "markdown",
   "metadata": {},
   "source": [
    "The time difference between the inference model vs. doing a custom preprocessing step does not seem to be huge but when we scale it to a large dataset it can make quite a difference..."
   ]
  },
  {
   "cell_type": "code",
   "execution_count": 37,
   "metadata": {},
   "outputs": [
    {
     "name": "stdout",
     "output_type": "stream",
     "text": [
      "518/518 [==============================] - 65s 125ms/step\n",
      "CPU times: user 1min 6s, sys: 330 ms, total: 1min 6s\n",
      "Wall time: 1min 6s\n"
     ]
    }
   ],
   "source": [
    "%%time\n",
    "\n",
    "batch_size = params.get(\"batch_size\", 64)\n",
    "predictions = inference_model.predict(dataset_test.batch(batch_size))"
   ]
  },
  {
   "cell_type": "code",
   "execution_count": 38,
   "metadata": {},
   "outputs": [
    {
     "name": "stdout",
     "output_type": "stream",
     "text": [
      "518/518 [==============================] - 2s 5ms/step\n",
      "CPU times: user 3.57 s, sys: 43.8 ms, total: 3.62 s\n",
      "Wall time: 2.77 s\n"
     ]
    }
   ],
   "source": [
    "%%time\n",
    "\n",
    "batch_size = params.get(\"batch_size\", 64)\n",
    "# we need training here since dataset_test also contains labels\n",
    "training_preprocessor = create_text_preprocessor(params, True)\n",
    "\n",
    "dataset_test_preprocessed = dataset_test.batch(batch_size).map(\n",
    "    training_preprocessor,\n",
    "    num_parallel_calls=tf.data.AUTOTUNE)\n",
    "\n",
    "predictions = training_model.predict(dataset_test_preprocessed)"
   ]
  },
  {
   "cell_type": "markdown",
   "metadata": {},
   "source": [
    "As we can see here it can pay of doing a custom preprocessing (~1min vs. ~3sec)"
   ]
  },
  {
   "cell_type": "code",
   "execution_count": null,
   "metadata": {},
   "outputs": [],
   "source": []
  },
  {
   "cell_type": "markdown",
   "metadata": {},
   "source": [
    "Check performance on all data."
   ]
  },
  {
   "cell_type": "code",
   "execution_count": 39,
   "metadata": {},
   "outputs": [],
   "source": [
    "from fhnw.nlp.utils.params import predict_classification\n",
    "from fhnw.nlp.utils.ploting import report_classification_results"
   ]
  },
  {
   "cell_type": "code",
   "execution_count": 40,
   "metadata": {},
   "outputs": [
    {
     "name": "stdout",
     "output_type": "stream",
     "text": [
      "2588/2588 [==============================] - 13s 5ms/step\n",
      "Set Population: 331187\n",
      "Accuracy: 0.9886\n"
     ]
    },
    {
     "data": {
      "image/png": "[encoded data removed]",
      "text/plain": [
       "<Figure size 1000x800 with 2 Axes>"
      ]
     },
     "metadata": {},
     "output_type": "display_data"
    },
    {
     "name": "stdout",
     "output_type": "stream",
     "text": [
      "              precision    recall  f1-score   support\n",
      "\n",
      "    negative       0.95      0.94      0.94     33022\n",
      "    positive       0.99      0.99      0.99    298165\n",
      "\n",
      "    accuracy                           0.99    331187\n",
      "   macro avg       0.97      0.97      0.97    331187\n",
      "weighted avg       0.99      0.99      0.99    331187\n",
      "\n",
      "CPU times: user 27.1 s, sys: 829 ms, total: 28 s\n",
      "Wall time: 23.3 s\n"
     ]
    }
   ],
   "source": [
    "%%time\n",
    "\n",
    "preprocessor = create_text_preprocessor(params, False)\n",
    "\n",
    "y, y_pred, y_pred_prob = predict_classification(params, data, training_model, preprocessor)\n",
    "\n",
    "report_classification_results(params, y, y_pred)"
   ]
  },
  {
   "cell_type": "markdown",
   "metadata": {},
   "source": [
    "Check performance on test data."
   ]
  },
  {
   "cell_type": "code",
   "execution_count": 41,
   "metadata": {},
   "outputs": [
    {
     "name": "stdout",
     "output_type": "stream",
     "text": [
      "518/518 [==============================] - 2s 5ms/step\n",
      "Set Population: 66238\n",
      "Accuracy: 0.9722\n"
     ]
    },
    {
     "data": {
      "image/png": "[encoded data removed]",
      "text/plain": [
       "<Figure size 1000x800 with 2 Axes>"
      ]
     },
     "metadata": {},
     "output_type": "display_data"
    },
    {
     "name": "stdout",
     "output_type": "stream",
     "text": [
      "              precision    recall  f1-score   support\n",
      "\n",
      "    negative       0.87      0.85      0.86      6604\n",
      "    positive       0.98      0.99      0.98     59634\n",
      "\n",
      "    accuracy                           0.97     66238\n",
      "   macro avg       0.93      0.92      0.92     66238\n",
      "weighted avg       0.97      0.97      0.97     66238\n",
      "\n",
      "CPU times: user 5.26 s, sys: 289 ms, total: 5.55 s\n",
      "Wall time: 4.42 s\n"
     ]
    }
   ],
   "source": [
    "%%time\n",
    "\n",
    "preprocessor = create_text_preprocessor(params, False)\n",
    "\n",
    "y, y_pred, y_pred_prob = predict_classification(params, data_test, training_model, preprocessor)\n",
    "\n",
    "report_classification_results(params, y, y_pred)"
   ]
  }
 ],
 "metadata": {
  "kernelspec": {
   "display_name": "Python 3 (ipykernel)",
   "language": "python",
   "name": "python3"
  },
  "language_info": {
   "codemirror_mode": {
    "name": "ipython",
    "version": 3
   },
   "file_extension": ".py",
   "mimetype": "text/x-python",
   "name": "python",
   "nbconvert_exporter": "python",
   "pygments_lexer": "ipython3",
   "version": "3.8.10"
  }
 },
 "nbformat": 4,
 "nbformat_minor": 2
}
