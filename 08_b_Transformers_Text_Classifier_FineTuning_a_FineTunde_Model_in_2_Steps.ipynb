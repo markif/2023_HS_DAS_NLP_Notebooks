{
 "cells": [
  {
   "cell_type": "markdown",
   "metadata": {},
   "source": [
    "<img align=\"right\" width=\"400\" src=\"https://www.fhnw.ch/de/++theme++web16theme/assets/media/img/fachhochschule-nordwestschweiz-fhnw-logo.svg\" alt=\"FHNW Logo\">\n",
    "\n",
    "\n",
    "# Transformers Fine Tuning\n",
    "\n",
    "by Fabian Märki\n",
    "\n",
    "## Summary\n",
    "The aim of this notebook is to show how to further fine tune a pretrained model for sequence classification (the model has been fine tuned for a similar task already). In a first round, only the newly added classification head is trained (all other layers are frozen - the idea is to adjust the class vectors of the classification head to the pretrained feature extractor). In a second round, the complete model is trained (by unfreezing all layers).   \n",
    "\n",
    "\n",
    "## Links\n",
    "- [Fine-tune a pretrained model](https://huggingface.co/docs/transformers/training)\n",
    "- [Course](https://huggingface.co/course/chapter1) on how to use Huggingface's transformer models (from simple using pipelines to complex implementing the training loop).\n",
    "- [Notebooks](https://huggingface.co/docs/transformers/notebooks) on a different topics (fine tuning,  translation, summarization, question answering, audio classification, image classification etc.)\n",
    "\n",
    "\n",
    "<a href=\"https://colab.research.google.com/github/markif/2023_HS_DAS_NLP_Notebooks/blob/master/08_b_Transformers_Text_Classifier_FineTuning_a_FineTunde_Model_in_2_Steps.ipynb\">\n",
    "  <img align=\"left\" src=\"https://colab.research.google.com/assets/colab-badge.svg\" alt=\"Open In Colab\"/>\n",
    "</a>"
   ]
  },
  {
   "cell_type": "code",
   "execution_count": 1,
   "metadata": {},
   "outputs": [],
   "source": [
    "%%capture\n",
    "\n",
    "!pip install 'fhnw-nlp-utils>=0.8.0,<0.9.0'\n",
    "\n",
    "from fhnw.nlp.utils.storage import load_dataframe\n",
    "from fhnw.nlp.utils.storage import download\n",
    "from fhnw.nlp.utils.system import set_log_level\n",
    "\n",
    "import pandas as pd\n",
    "import numpy as np\n",
    "\n",
    "set_log_level()\n",
    "import tensorflow as tf"
   ]
  },
  {
   "cell_type": "markdown",
   "metadata": {},
   "source": [
    "**Make sure that a GPU is available (see [here](https://www.tutorialspoint.com/google_colab/google_colab_using_free_gpu.htm))!!!**"
   ]
  },
  {
   "cell_type": "code",
   "execution_count": 2,
   "metadata": {},
   "outputs": [
    {
     "name": "stdout",
     "output_type": "stream",
     "text": [
      "OS name: posix\n",
      "Platform name: Linux\n",
      "Platform release: 6.2.0-32-generic\n",
      "Python version: 3.8.10\n",
      "CPU cores: 6\n",
      "RAM: 31.1GB total and 25.43GB available\n",
      "Tensorflow version: 2.12.0\n",
      "GPU is available\n",
      "GPU is a NVIDIA GeForce RTX 2070 with Max-Q Design with 8192MiB\n"
     ]
    }
   ],
   "source": [
    "from fhnw.nlp.utils.system import system_info\n",
    "print(system_info())"
   ]
  },
  {
   "cell_type": "code",
   "execution_count": 3,
   "metadata": {},
   "outputs": [
    {
     "name": "stdout",
     "output_type": "stream",
     "text": [
      "CPU times: user 6.58 s, sys: 1.54 s, total: 8.12 s\n",
      "Wall time: 4.9 s\n"
     ]
    }
   ],
   "source": [
    "%%time\n",
    "download(\"https://drive.switch.ch/index.php/s/0hE8wO4FbfGIJld/download\", \"data/german_doctor_reviews_tokenized.parq\")\n",
    "data = load_dataframe(\"data/german_doctor_reviews_tokenized.parq\")"
   ]
  },
  {
   "cell_type": "code",
   "execution_count": 4,
   "metadata": {},
   "outputs": [
    {
     "data": {
      "text/plain": [
       "(331187, 10)"
      ]
     },
     "execution_count": 4,
     "metadata": {},
     "output_type": "execute_result"
    }
   ],
   "source": [
    "# remove all neutral sentimens\n",
    "data = data.loc[(data[\"label\"] != \"neutral\")]\n",
    "data.shape"
   ]
  },
  {
   "cell_type": "code",
   "execution_count": 5,
   "metadata": {},
   "outputs": [
    {
     "data": {
      "text/html": [
       "<div>\n",
       "<style scoped>\n",
       "    .dataframe tbody tr th:only-of-type {\n",
       "        vertical-align: middle;\n",
       "    }\n",
       "\n",
       "    .dataframe tbody tr th {\n",
       "        vertical-align: top;\n",
       "    }\n",
       "\n",
       "    .dataframe thead th {\n",
       "        text-align: right;\n",
       "    }\n",
       "</style>\n",
       "<table border=\"1\" class=\"dataframe\">\n",
       "  <thead>\n",
       "    <tr style=\"text-align: right;\">\n",
       "      <th></th>\n",
       "      <th>text_original</th>\n",
       "      <th>rating</th>\n",
       "      <th>text</th>\n",
       "      <th>label</th>\n",
       "      <th>sentiment</th>\n",
       "      <th>token_clean</th>\n",
       "      <th>text_clean</th>\n",
       "      <th>token_lemma</th>\n",
       "      <th>token_stem</th>\n",
       "      <th>token_clean_stopwords</th>\n",
       "    </tr>\n",
       "  </thead>\n",
       "  <tbody>\n",
       "    <tr>\n",
       "      <th>0</th>\n",
       "      <td>Ich bin franzose und bin seit ein paar Wochen ...</td>\n",
       "      <td>2.0</td>\n",
       "      <td>Ich bin franzose und bin seit ein paar Wochen ...</td>\n",
       "      <td>positive</td>\n",
       "      <td>1</td>\n",
       "      <td>[ich, bin, franzose, und, bin, seit, ein, paar...</td>\n",
       "      <td>ich bin franzose und bin seit ein paar wochen ...</td>\n",
       "      <td>[franzose, seit, paar, wochen, muenchen, zahn,...</td>\n",
       "      <td>[franzos, seit, paar, woch, muench, ., zahn, s...</td>\n",
       "      <td>[franzose, seit, paar, wochen, muenchen, ., za...</td>\n",
       "    </tr>\n",
       "    <tr>\n",
       "      <th>1</th>\n",
       "      <td>Dieser Arzt ist das unmöglichste was mir in me...</td>\n",
       "      <td>6.0</td>\n",
       "      <td>Dieser Arzt ist das unmöglichste was mir in me...</td>\n",
       "      <td>negative</td>\n",
       "      <td>-1</td>\n",
       "      <td>[dieser, arzt, ist, das, unmöglichste, was, mi...</td>\n",
       "      <td>dieser arzt ist das unmöglichste was mir in me...</td>\n",
       "      <td>[arzt, unmöglichste, leben, je, begegnen, unfr...</td>\n",
       "      <td>[arzt, unmog, leb, je, begegnet, unfreund, ,, ...</td>\n",
       "      <td>[arzt, unmöglichste, leben, je, begegnet, unfr...</td>\n",
       "    </tr>\n",
       "    <tr>\n",
       "      <th>2</th>\n",
       "      <td>Hatte akute Beschwerden am Rücken. Herr Magura...</td>\n",
       "      <td>1.0</td>\n",
       "      <td>Hatte akute Beschwerden am Rücken. Herr Magura...</td>\n",
       "      <td>positive</td>\n",
       "      <td>1</td>\n",
       "      <td>[hatte, akute, beschwerden, am, rücken, ., her...</td>\n",
       "      <td>hatte akute beschwerden am rücken . herr magur...</td>\n",
       "      <td>[akut, beschwerden, rücken, magura, erste, arz...</td>\n",
       "      <td>[akut, beschwerd, ruck, ., magura, erst, arzt,...</td>\n",
       "      <td>[akute, beschwerden, rücken, ., magura, erste,...</td>\n",
       "    </tr>\n",
       "  </tbody>\n",
       "</table>\n",
       "</div>"
      ],
      "text/plain": [
       "                                       text_original  rating   \n",
       "0  Ich bin franzose und bin seit ein paar Wochen ...     2.0  \\\n",
       "1  Dieser Arzt ist das unmöglichste was mir in me...     6.0   \n",
       "2  Hatte akute Beschwerden am Rücken. Herr Magura...     1.0   \n",
       "\n",
       "                                                text     label  sentiment   \n",
       "0  Ich bin franzose und bin seit ein paar Wochen ...  positive          1  \\\n",
       "1  Dieser Arzt ist das unmöglichste was mir in me...  negative         -1   \n",
       "2  Hatte akute Beschwerden am Rücken. Herr Magura...  positive          1   \n",
       "\n",
       "                                         token_clean   \n",
       "0  [ich, bin, franzose, und, bin, seit, ein, paar...  \\\n",
       "1  [dieser, arzt, ist, das, unmöglichste, was, mi...   \n",
       "2  [hatte, akute, beschwerden, am, rücken, ., her...   \n",
       "\n",
       "                                          text_clean   \n",
       "0  ich bin franzose und bin seit ein paar wochen ...  \\\n",
       "1  dieser arzt ist das unmöglichste was mir in me...   \n",
       "2  hatte akute beschwerden am rücken . herr magur...   \n",
       "\n",
       "                                         token_lemma   \n",
       "0  [franzose, seit, paar, wochen, muenchen, zahn,...  \\\n",
       "1  [arzt, unmöglichste, leben, je, begegnen, unfr...   \n",
       "2  [akut, beschwerden, rücken, magura, erste, arz...   \n",
       "\n",
       "                                          token_stem   \n",
       "0  [franzos, seit, paar, woch, muench, ., zahn, s...  \\\n",
       "1  [arzt, unmog, leb, je, begegnet, unfreund, ,, ...   \n",
       "2  [akut, beschwerd, ruck, ., magura, erst, arzt,...   \n",
       "\n",
       "                               token_clean_stopwords  \n",
       "0  [franzose, seit, paar, wochen, muenchen, ., za...  \n",
       "1  [arzt, unmöglichste, leben, je, begegnet, unfr...  \n",
       "2  [akute, beschwerden, rücken, ., magura, erste,...  "
      ]
     },
     "execution_count": 5,
     "metadata": {},
     "output_type": "execute_result"
    }
   ],
   "source": [
    "data.head(3)"
   ]
  },
  {
   "cell_type": "code",
   "execution_count": 6,
   "metadata": {},
   "outputs": [],
   "source": [
    "%%capture\n",
    "\n",
    "!pip install torch\n",
    "!pip install transformers\n",
    "!pip install datasets\n",
    "!pip install evaluate\n",
    "!pip install accelerate"
   ]
  },
  {
   "cell_type": "code",
   "execution_count": 7,
   "metadata": {},
   "outputs": [],
   "source": [
    "from fhnw.nlp.utils.transformers import dataframe_to_dataset\n",
    "from fhnw.nlp.utils.transformers import dataframe_to_datasets\n",
    "from fhnw.nlp.utils.transformers import get_compute_device"
   ]
  },
  {
   "cell_type": "code",
   "execution_count": 8,
   "metadata": {},
   "outputs": [],
   "source": [
    "params = {\n",
    "    \"verbose\": True,\n",
    "    \"shuffle\": True,\n",
    "    \"n_samples\": len(data),\n",
    "    # modify batch_size in case you experience memory issues\n",
    "    \"batch_size\": 8,\n",
    "    \"X_column_name\": \"text\",\n",
    "    \"y_column_name\": \"label\",\n",
    "    \"y_column_name_prediction\": \"prediction\",\n",
    "    \"compute_device\": get_compute_device(),\n",
    "    # see https://huggingface.co/philschmid/distilbert-base-multilingual-cased-sentiment-2/tree/main\n",
    "    \"transformers_model_name\": \"philschmid/distilbert-base-multilingual-cased-sentiment-2\",\n",
    "    \"transformers_model_version\": \"83ff874\", #can be the name of a branch or a commit hash\n",
    "}"
   ]
  },
  {
   "cell_type": "code",
   "execution_count": 9,
   "metadata": {},
   "outputs": [
    {
     "name": "stdout",
     "output_type": "stream",
     "text": [
      "Inferred classification type: binary\n",
      "264949 train examples\n",
      "66238 test examples\n",
      "211959 train examples\n",
      "52990 test examples\n"
     ]
    }
   ],
   "source": [
    "datasets = dataframe_to_datasets(params, data)"
   ]
  },
  {
   "cell_type": "markdown",
   "metadata": {},
   "source": [
    "Changing max_length (to e.g. `input_sequence_length` or even smaller) can greatly speedup training and can even help to converge training."
   ]
  },
  {
   "cell_type": "code",
   "execution_count": 10,
   "metadata": {},
   "outputs": [
    {
     "data": {
      "application/vnd.jupyter.widget-view+json": {
       "model_id": "9d534a3aca7b4565bc18c60810e966d4",
       "version_major": 2,
       "version_minor": 0
      },
      "text/plain": [
       "Downloading (…)okenizer_config.json:   0%|          | 0.00/345 [00:00<?, ?B/s]"
      ]
     },
     "metadata": {},
     "output_type": "display_data"
    },
    {
     "data": {
      "application/vnd.jupyter.widget-view+json": {
       "model_id": "bd79a85b18e8461986225353e8f58e92",
       "version_major": 2,
       "version_minor": 0
      },
      "text/plain": [
       "Downloading (…)solve/main/vocab.txt:   0%|          | 0.00/996k [00:00<?, ?B/s]"
      ]
     },
     "metadata": {},
     "output_type": "display_data"
    },
    {
     "data": {
      "application/vnd.jupyter.widget-view+json": {
       "model_id": "ca5b664341c94e3ea096d9d63acfa828",
       "version_major": 2,
       "version_minor": 0
      },
      "text/plain": [
       "Downloading (…)/main/tokenizer.json:   0%|          | 0.00/1.96M [00:00<?, ?B/s]"
      ]
     },
     "metadata": {},
     "output_type": "display_data"
    },
    {
     "data": {
      "application/vnd.jupyter.widget-view+json": {
       "model_id": "743c87f8c16b4bb39e7df46c13abd49c",
       "version_major": 2,
       "version_minor": 0
      },
      "text/plain": [
       "Downloading (…)cial_tokens_map.json:   0%|          | 0.00/112 [00:00<?, ?B/s]"
      ]
     },
     "metadata": {},
     "output_type": "display_data"
    },
    {
     "data": {
      "application/vnd.jupyter.widget-view+json": {
       "model_id": "",
       "version_major": 2,
       "version_minor": 0
      },
      "text/plain": [
       "Map:   0%|          | 0/211959 [00:00<?, ? examples/s]"
      ]
     },
     "metadata": {},
     "output_type": "display_data"
    },
    {
     "data": {
      "application/vnd.jupyter.widget-view+json": {
       "model_id": "",
       "version_major": 2,
       "version_minor": 0
      },
      "text/plain": [
       "Map:   0%|          | 0/52990 [00:00<?, ? examples/s]"
      ]
     },
     "metadata": {},
     "output_type": "display_data"
    },
    {
     "data": {
      "application/vnd.jupyter.widget-view+json": {
       "model_id": "",
       "version_major": 2,
       "version_minor": 0
      },
      "text/plain": [
       "Map:   0%|          | 0/66238 [00:00<?, ? examples/s]"
      ]
     },
     "metadata": {},
     "output_type": "display_data"
    }
   ],
   "source": [
    "from transformers import AutoTokenizer\n",
    "\n",
    "tokenizer = AutoTokenizer.from_pretrained(params[\"transformers_model_name\"])\n",
    "\n",
    "def tokenize_function(examples):\n",
    "    X_column_name = params.get(\"X_column_name\", \"text\")\n",
    "    input_sequence_length = params.get(\"input_sequence_length\", 256)\n",
    "    \n",
    "    return tokenizer(\n",
    "        examples[X_column_name], \n",
    "        #padding=True,\n",
    "        #max_length=input_sequence_length,\n",
    "        padding=\"max_length\",\n",
    "        truncation=True,\n",
    "    )\n",
    "\n",
    "tokenized_datasets = datasets.map(tokenize_function, batched=True)"
   ]
  },
  {
   "cell_type": "code",
   "execution_count": 11,
   "metadata": {},
   "outputs": [
    {
     "name": "stdout",
     "output_type": "stream",
     "text": [
      "Text:  ['[CLS]', 'die', 'pra', '##xis', 'und', 'dr', '.', 'ander', '##ya', 'sind', 'sehr', 'zu', 'em', '##pf', '##eh', '##len', 'f', '##ühl', '##te', 'mich', 'er', '##nst', '##genommen', 'und', 'sehr', 'gut', 'auf', '##gehoben', 'die', 'op']\n",
      "IDs:  [101, 10128, 69857, 53496, 10130, 17094, 119, 23336, 10679, 10762, 14483, 10304, 10266, 55942, 25723, 11608, 174, 48288, 10216, 52866, 10163, 40300, 29789, 10130, 14483, 23639, 10329, 77630, 10128, 10303]\n",
      "CPU times: user 22.9 s, sys: 299 ms, total: 23.2 s\n",
      "Wall time: 23.1 s\n"
     ]
    }
   ],
   "source": [
    "%%time\n",
    "\n",
    "print(\"Text: \", tokenizer.convert_ids_to_tokens(tokenized_datasets[\"test\"][\"input_ids\"][0])[0:30])\n",
    "print(\"IDs: \", tokenized_datasets[\"test\"][\"input_ids\"][0][0:30])"
   ]
  },
  {
   "cell_type": "code",
   "execution_count": 12,
   "metadata": {},
   "outputs": [],
   "source": [
    "train_dataset = tokenized_datasets[\"train\"].shuffle(seed=42)\n",
    "eval_dataset = tokenized_datasets[\"test\"]\n",
    "#train_dataset = tokenized_datasets[\"train\"].shuffle(seed=42).select(range(1000))\n",
    "#eval_dataset = tokenized_datasets[\"test\"].select(range(1000))"
   ]
  },
  {
   "cell_type": "code",
   "execution_count": 13,
   "metadata": {},
   "outputs": [
    {
     "data": {
      "application/vnd.jupyter.widget-view+json": {
       "model_id": "eb30f137c6d441648c69c4ae8087a2ea",
       "version_major": 2,
       "version_minor": 0
      },
      "text/plain": [
       "Downloading (…)lve/main/config.json:   0%|          | 0.00/814 [00:00<?, ?B/s]"
      ]
     },
     "metadata": {},
     "output_type": "display_data"
    },
    {
     "data": {
      "application/vnd.jupyter.widget-view+json": {
       "model_id": "55e441491228462c8108e81cef443333",
       "version_major": 2,
       "version_minor": 0
      },
      "text/plain": [
       "Downloading pytorch_model.bin:   0%|          | 0.00/541M [00:00<?, ?B/s]"
      ]
     },
     "metadata": {},
     "output_type": "display_data"
    }
   ],
   "source": [
    "from transformers import AutoModelForSequenceClassification\n",
    "\n",
    "computed_objects_column_name = params.get(\"computed_objects_column_name\", \"computed_objects\")\n",
    "label_binarizer = params[computed_objects_column_name][\"label_binarizer\"]\n",
    "num_classes = len(label_binarizer.classes_)\n",
    "\n",
    "model = AutoModelForSequenceClassification.from_pretrained(params[\"transformers_model_name\"])"
   ]
  },
  {
   "cell_type": "markdown",
   "metadata": {},
   "source": [
    "Print the model config to see the labels of the model."
   ]
  },
  {
   "cell_type": "markdown",
   "metadata": {},
   "source": [
    "See also [here](https://github.com/huggingface/transformers/issues/5905) and [here](https://github.com/huggingface/transformers/blob/6e8a38568eb874f31eb49c42285c3a634fca12e7/examples/token-classification/run_ner.py#L146)"
   ]
  },
  {
   "cell_type": "code",
   "execution_count": 14,
   "metadata": {},
   "outputs": [
    {
     "data": {
      "text/plain": [
       "DistilBertConfig {\n",
       "  \"_name_or_path\": \"philschmid/distilbert-base-multilingual-cased-sentiment-2\",\n",
       "  \"activation\": \"gelu\",\n",
       "  \"architectures\": [\n",
       "    \"DistilBertForSequenceClassification\"\n",
       "  ],\n",
       "  \"attention_dropout\": 0.1,\n",
       "  \"dim\": 768,\n",
       "  \"dropout\": 0.1,\n",
       "  \"hidden_dim\": 3072,\n",
       "  \"id2label\": {\n",
       "    \"0\": \"negative\",\n",
       "    \"1\": \"neutral\",\n",
       "    \"2\": \"positive\"\n",
       "  },\n",
       "  \"initializer_range\": 0.02,\n",
       "  \"label2id\": {\n",
       "    \"negative\": \"0\",\n",
       "    \"neutral\": \"1\",\n",
       "    \"positive\": \"2\"\n",
       "  },\n",
       "  \"max_position_embeddings\": 512,\n",
       "  \"model_type\": \"distilbert\",\n",
       "  \"n_heads\": 12,\n",
       "  \"n_layers\": 6,\n",
       "  \"output_past\": true,\n",
       "  \"pad_token_id\": 0,\n",
       "  \"problem_type\": \"single_label_classification\",\n",
       "  \"qa_dropout\": 0.1,\n",
       "  \"seq_classif_dropout\": 0.2,\n",
       "  \"sinusoidal_pos_embds\": false,\n",
       "  \"tie_weights_\": true,\n",
       "  \"torch_dtype\": \"float32\",\n",
       "  \"transformers_version\": \"4.29.1\",\n",
       "  \"vocab_size\": 119547\n",
       "}"
      ]
     },
     "execution_count": 14,
     "metadata": {},
     "output_type": "execute_result"
    }
   ],
   "source": [
    "config = model.config\n",
    "\n",
    "config"
   ]
  },
  {
   "cell_type": "markdown",
   "metadata": {},
   "source": [
    "Setup the new labels and adjust the model config."
   ]
  },
  {
   "cell_type": "code",
   "execution_count": 16,
   "metadata": {},
   "outputs": [
    {
     "data": {
      "text/plain": [
       "{0: 'negative', 1: 'positive'}"
      ]
     },
     "execution_count": 16,
     "metadata": {},
     "output_type": "execute_result"
    }
   ],
   "source": [
    "label_map = {i: label for i, label in enumerate(label_binarizer.classes_)}\n",
    "\n",
    "label_map"
   ]
  },
  {
   "cell_type": "code",
   "execution_count": 17,
   "metadata": {},
   "outputs": [
    {
     "data": {
      "text/plain": [
       "DistilBertConfig {\n",
       "  \"_name_or_path\": \"philschmid/distilbert-base-multilingual-cased-sentiment-2\",\n",
       "  \"activation\": \"gelu\",\n",
       "  \"architectures\": [\n",
       "    \"DistilBertForSequenceClassification\"\n",
       "  ],\n",
       "  \"attention_dropout\": 0.1,\n",
       "  \"dim\": 768,\n",
       "  \"dropout\": 0.1,\n",
       "  \"hidden_dim\": 3072,\n",
       "  \"id2label\": {\n",
       "    \"0\": \"negative\",\n",
       "    \"1\": \"positive\"\n",
       "  },\n",
       "  \"initializer_range\": 0.02,\n",
       "  \"label2id\": {\n",
       "    \"negative\": 0,\n",
       "    \"positive\": 1\n",
       "  },\n",
       "  \"max_position_embeddings\": 512,\n",
       "  \"model_type\": \"distilbert\",\n",
       "  \"n_heads\": 12,\n",
       "  \"n_layers\": 6,\n",
       "  \"output_past\": true,\n",
       "  \"pad_token_id\": 0,\n",
       "  \"problem_type\": \"single_label_classification\",\n",
       "  \"qa_dropout\": 0.1,\n",
       "  \"seq_classif_dropout\": 0.2,\n",
       "  \"sinusoidal_pos_embds\": false,\n",
       "  \"tie_weights_\": true,\n",
       "  \"torch_dtype\": \"float32\",\n",
       "  \"transformers_version\": \"4.29.1\",\n",
       "  \"vocab_size\": 119547\n",
       "}"
      ]
     },
     "execution_count": 17,
     "metadata": {},
     "output_type": "execute_result"
    }
   ],
   "source": [
    "config.num_labels = num_classes\n",
    "config.id2label = label_map\n",
    "config.label2id = {label: i for i, label in enumerate(label_binarizer.classes_)}\n",
    "\n",
    "config"
   ]
  },
  {
   "cell_type": "markdown",
   "metadata": {},
   "source": [
    "Reinitiallize the classification layer to match the number of the new labels (and do not forget to adjust the model's <code>num_labels</code>."
   ]
  },
  {
   "cell_type": "code",
   "execution_count": 18,
   "metadata": {},
   "outputs": [],
   "source": [
    "import torch\n",
    "\n",
    "model.classifier = torch.nn.Linear(in_features=model.classifier.in_features, out_features=config.num_labels, bias=True)\n",
    "model.config = config\n",
    "model.num_labels = config.num_labels"
   ]
  },
  {
   "cell_type": "markdown",
   "metadata": {},
   "source": [
    "Check which layers are trained."
   ]
  },
  {
   "cell_type": "code",
   "execution_count": 19,
   "metadata": {},
   "outputs": [
    {
     "name": "stdout",
     "output_type": "stream",
     "text": [
      "distilbert.embeddings.word_embeddings.weight True\n",
      "distilbert.embeddings.position_embeddings.weight True\n",
      "distilbert.embeddings.LayerNorm.weight True\n",
      "distilbert.embeddings.LayerNorm.bias True\n",
      "distilbert.transformer.layer.0.attention.q_lin.weight True\n",
      "distilbert.transformer.layer.0.attention.q_lin.bias True\n",
      "distilbert.transformer.layer.0.attention.k_lin.weight True\n",
      "distilbert.transformer.layer.0.attention.k_lin.bias True\n",
      "distilbert.transformer.layer.0.attention.v_lin.weight True\n",
      "distilbert.transformer.layer.0.attention.v_lin.bias True\n",
      "distilbert.transformer.layer.0.attention.out_lin.weight True\n",
      "distilbert.transformer.layer.0.attention.out_lin.bias True\n",
      "distilbert.transformer.layer.0.sa_layer_norm.weight True\n",
      "distilbert.transformer.layer.0.sa_layer_norm.bias True\n",
      "distilbert.transformer.layer.0.ffn.lin1.weight True\n",
      "distilbert.transformer.layer.0.ffn.lin1.bias True\n",
      "distilbert.transformer.layer.0.ffn.lin2.weight True\n",
      "distilbert.transformer.layer.0.ffn.lin2.bias True\n",
      "distilbert.transformer.layer.0.output_layer_norm.weight True\n",
      "distilbert.transformer.layer.0.output_layer_norm.bias True\n",
      "distilbert.transformer.layer.1.attention.q_lin.weight True\n",
      "distilbert.transformer.layer.1.attention.q_lin.bias True\n",
      "distilbert.transformer.layer.1.attention.k_lin.weight True\n",
      "distilbert.transformer.layer.1.attention.k_lin.bias True\n",
      "distilbert.transformer.layer.1.attention.v_lin.weight True\n",
      "distilbert.transformer.layer.1.attention.v_lin.bias True\n",
      "distilbert.transformer.layer.1.attention.out_lin.weight True\n",
      "distilbert.transformer.layer.1.attention.out_lin.bias True\n",
      "distilbert.transformer.layer.1.sa_layer_norm.weight True\n",
      "distilbert.transformer.layer.1.sa_layer_norm.bias True\n",
      "distilbert.transformer.layer.1.ffn.lin1.weight True\n",
      "distilbert.transformer.layer.1.ffn.lin1.bias True\n",
      "distilbert.transformer.layer.1.ffn.lin2.weight True\n",
      "distilbert.transformer.layer.1.ffn.lin2.bias True\n",
      "distilbert.transformer.layer.1.output_layer_norm.weight True\n",
      "distilbert.transformer.layer.1.output_layer_norm.bias True\n",
      "distilbert.transformer.layer.2.attention.q_lin.weight True\n",
      "distilbert.transformer.layer.2.attention.q_lin.bias True\n",
      "distilbert.transformer.layer.2.attention.k_lin.weight True\n",
      "distilbert.transformer.layer.2.attention.k_lin.bias True\n",
      "distilbert.transformer.layer.2.attention.v_lin.weight True\n",
      "distilbert.transformer.layer.2.attention.v_lin.bias True\n",
      "distilbert.transformer.layer.2.attention.out_lin.weight True\n",
      "distilbert.transformer.layer.2.attention.out_lin.bias True\n",
      "distilbert.transformer.layer.2.sa_layer_norm.weight True\n",
      "distilbert.transformer.layer.2.sa_layer_norm.bias True\n",
      "distilbert.transformer.layer.2.ffn.lin1.weight True\n",
      "distilbert.transformer.layer.2.ffn.lin1.bias True\n",
      "distilbert.transformer.layer.2.ffn.lin2.weight True\n",
      "distilbert.transformer.layer.2.ffn.lin2.bias True\n",
      "distilbert.transformer.layer.2.output_layer_norm.weight True\n",
      "distilbert.transformer.layer.2.output_layer_norm.bias True\n",
      "distilbert.transformer.layer.3.attention.q_lin.weight True\n",
      "distilbert.transformer.layer.3.attention.q_lin.bias True\n",
      "distilbert.transformer.layer.3.attention.k_lin.weight True\n",
      "distilbert.transformer.layer.3.attention.k_lin.bias True\n",
      "distilbert.transformer.layer.3.attention.v_lin.weight True\n",
      "distilbert.transformer.layer.3.attention.v_lin.bias True\n",
      "distilbert.transformer.layer.3.attention.out_lin.weight True\n",
      "distilbert.transformer.layer.3.attention.out_lin.bias True\n",
      "distilbert.transformer.layer.3.sa_layer_norm.weight True\n",
      "distilbert.transformer.layer.3.sa_layer_norm.bias True\n",
      "distilbert.transformer.layer.3.ffn.lin1.weight True\n",
      "distilbert.transformer.layer.3.ffn.lin1.bias True\n",
      "distilbert.transformer.layer.3.ffn.lin2.weight True\n",
      "distilbert.transformer.layer.3.ffn.lin2.bias True\n",
      "distilbert.transformer.layer.3.output_layer_norm.weight True\n",
      "distilbert.transformer.layer.3.output_layer_norm.bias True\n",
      "distilbert.transformer.layer.4.attention.q_lin.weight True\n",
      "distilbert.transformer.layer.4.attention.q_lin.bias True\n",
      "distilbert.transformer.layer.4.attention.k_lin.weight True\n",
      "distilbert.transformer.layer.4.attention.k_lin.bias True\n",
      "distilbert.transformer.layer.4.attention.v_lin.weight True\n",
      "distilbert.transformer.layer.4.attention.v_lin.bias True\n",
      "distilbert.transformer.layer.4.attention.out_lin.weight True\n",
      "distilbert.transformer.layer.4.attention.out_lin.bias True\n",
      "distilbert.transformer.layer.4.sa_layer_norm.weight True\n",
      "distilbert.transformer.layer.4.sa_layer_norm.bias True\n",
      "distilbert.transformer.layer.4.ffn.lin1.weight True\n",
      "distilbert.transformer.layer.4.ffn.lin1.bias True\n",
      "distilbert.transformer.layer.4.ffn.lin2.weight True\n",
      "distilbert.transformer.layer.4.ffn.lin2.bias True\n",
      "distilbert.transformer.layer.4.output_layer_norm.weight True\n",
      "distilbert.transformer.layer.4.output_layer_norm.bias True\n",
      "distilbert.transformer.layer.5.attention.q_lin.weight True\n",
      "distilbert.transformer.layer.5.attention.q_lin.bias True\n",
      "distilbert.transformer.layer.5.attention.k_lin.weight True\n",
      "distilbert.transformer.layer.5.attention.k_lin.bias True\n",
      "distilbert.transformer.layer.5.attention.v_lin.weight True\n",
      "distilbert.transformer.layer.5.attention.v_lin.bias True\n",
      "distilbert.transformer.layer.5.attention.out_lin.weight True\n",
      "distilbert.transformer.layer.5.attention.out_lin.bias True\n",
      "distilbert.transformer.layer.5.sa_layer_norm.weight True\n",
      "distilbert.transformer.layer.5.sa_layer_norm.bias True\n",
      "distilbert.transformer.layer.5.ffn.lin1.weight True\n",
      "distilbert.transformer.layer.5.ffn.lin1.bias True\n",
      "distilbert.transformer.layer.5.ffn.lin2.weight True\n",
      "distilbert.transformer.layer.5.ffn.lin2.bias True\n",
      "distilbert.transformer.layer.5.output_layer_norm.weight True\n",
      "distilbert.transformer.layer.5.output_layer_norm.bias True\n",
      "pre_classifier.weight True\n",
      "pre_classifier.bias True\n",
      "classifier.weight True\n",
      "classifier.bias True\n"
     ]
    }
   ],
   "source": [
    "for name, param in model.named_parameters():\n",
    "     print(name, param.requires_grad)"
   ]
  },
  {
   "cell_type": "markdown",
   "metadata": {},
   "source": [
    "Freeze all weights/biases for training and only allow the classification layer to be trained."
   ]
  },
  {
   "cell_type": "code",
   "execution_count": 20,
   "metadata": {},
   "outputs": [],
   "source": [
    "# freeze weights/bias for training (only train classifier)\n",
    "\n",
    "for name, param in model.named_parameters():\n",
    "     if \"classifier\" not in name: \n",
    "        param.requires_grad = False"
   ]
  },
  {
   "cell_type": "markdown",
   "metadata": {},
   "source": [
    "Double check"
   ]
  },
  {
   "cell_type": "code",
   "execution_count": 21,
   "metadata": {},
   "outputs": [
    {
     "name": "stdout",
     "output_type": "stream",
     "text": [
      "distilbert.embeddings.word_embeddings.weight False\n",
      "distilbert.embeddings.position_embeddings.weight False\n",
      "distilbert.embeddings.LayerNorm.weight False\n",
      "distilbert.embeddings.LayerNorm.bias False\n",
      "distilbert.transformer.layer.0.attention.q_lin.weight False\n",
      "distilbert.transformer.layer.0.attention.q_lin.bias False\n",
      "distilbert.transformer.layer.0.attention.k_lin.weight False\n",
      "distilbert.transformer.layer.0.attention.k_lin.bias False\n",
      "distilbert.transformer.layer.0.attention.v_lin.weight False\n",
      "distilbert.transformer.layer.0.attention.v_lin.bias False\n",
      "distilbert.transformer.layer.0.attention.out_lin.weight False\n",
      "distilbert.transformer.layer.0.attention.out_lin.bias False\n",
      "distilbert.transformer.layer.0.sa_layer_norm.weight False\n",
      "distilbert.transformer.layer.0.sa_layer_norm.bias False\n",
      "distilbert.transformer.layer.0.ffn.lin1.weight False\n",
      "distilbert.transformer.layer.0.ffn.lin1.bias False\n",
      "distilbert.transformer.layer.0.ffn.lin2.weight False\n",
      "distilbert.transformer.layer.0.ffn.lin2.bias False\n",
      "distilbert.transformer.layer.0.output_layer_norm.weight False\n",
      "distilbert.transformer.layer.0.output_layer_norm.bias False\n",
      "distilbert.transformer.layer.1.attention.q_lin.weight False\n",
      "distilbert.transformer.layer.1.attention.q_lin.bias False\n",
      "distilbert.transformer.layer.1.attention.k_lin.weight False\n",
      "distilbert.transformer.layer.1.attention.k_lin.bias False\n",
      "distilbert.transformer.layer.1.attention.v_lin.weight False\n",
      "distilbert.transformer.layer.1.attention.v_lin.bias False\n",
      "distilbert.transformer.layer.1.attention.out_lin.weight False\n",
      "distilbert.transformer.layer.1.attention.out_lin.bias False\n",
      "distilbert.transformer.layer.1.sa_layer_norm.weight False\n",
      "distilbert.transformer.layer.1.sa_layer_norm.bias False\n",
      "distilbert.transformer.layer.1.ffn.lin1.weight False\n",
      "distilbert.transformer.layer.1.ffn.lin1.bias False\n",
      "distilbert.transformer.layer.1.ffn.lin2.weight False\n",
      "distilbert.transformer.layer.1.ffn.lin2.bias False\n",
      "distilbert.transformer.layer.1.output_layer_norm.weight False\n",
      "distilbert.transformer.layer.1.output_layer_norm.bias False\n",
      "distilbert.transformer.layer.2.attention.q_lin.weight False\n",
      "distilbert.transformer.layer.2.attention.q_lin.bias False\n",
      "distilbert.transformer.layer.2.attention.k_lin.weight False\n",
      "distilbert.transformer.layer.2.attention.k_lin.bias False\n",
      "distilbert.transformer.layer.2.attention.v_lin.weight False\n",
      "distilbert.transformer.layer.2.attention.v_lin.bias False\n",
      "distilbert.transformer.layer.2.attention.out_lin.weight False\n",
      "distilbert.transformer.layer.2.attention.out_lin.bias False\n",
      "distilbert.transformer.layer.2.sa_layer_norm.weight False\n",
      "distilbert.transformer.layer.2.sa_layer_norm.bias False\n",
      "distilbert.transformer.layer.2.ffn.lin1.weight False\n",
      "distilbert.transformer.layer.2.ffn.lin1.bias False\n",
      "distilbert.transformer.layer.2.ffn.lin2.weight False\n",
      "distilbert.transformer.layer.2.ffn.lin2.bias False\n",
      "distilbert.transformer.layer.2.output_layer_norm.weight False\n",
      "distilbert.transformer.layer.2.output_layer_norm.bias False\n",
      "distilbert.transformer.layer.3.attention.q_lin.weight False\n",
      "distilbert.transformer.layer.3.attention.q_lin.bias False\n",
      "distilbert.transformer.layer.3.attention.k_lin.weight False\n",
      "distilbert.transformer.layer.3.attention.k_lin.bias False\n",
      "distilbert.transformer.layer.3.attention.v_lin.weight False\n",
      "distilbert.transformer.layer.3.attention.v_lin.bias False\n",
      "distilbert.transformer.layer.3.attention.out_lin.weight False\n",
      "distilbert.transformer.layer.3.attention.out_lin.bias False\n",
      "distilbert.transformer.layer.3.sa_layer_norm.weight False\n",
      "distilbert.transformer.layer.3.sa_layer_norm.bias False\n",
      "distilbert.transformer.layer.3.ffn.lin1.weight False\n",
      "distilbert.transformer.layer.3.ffn.lin1.bias False\n",
      "distilbert.transformer.layer.3.ffn.lin2.weight False\n",
      "distilbert.transformer.layer.3.ffn.lin2.bias False\n",
      "distilbert.transformer.layer.3.output_layer_norm.weight False\n",
      "distilbert.transformer.layer.3.output_layer_norm.bias False\n",
      "distilbert.transformer.layer.4.attention.q_lin.weight False\n",
      "distilbert.transformer.layer.4.attention.q_lin.bias False\n",
      "distilbert.transformer.layer.4.attention.k_lin.weight False\n",
      "distilbert.transformer.layer.4.attention.k_lin.bias False\n",
      "distilbert.transformer.layer.4.attention.v_lin.weight False\n",
      "distilbert.transformer.layer.4.attention.v_lin.bias False\n",
      "distilbert.transformer.layer.4.attention.out_lin.weight False\n",
      "distilbert.transformer.layer.4.attention.out_lin.bias False\n",
      "distilbert.transformer.layer.4.sa_layer_norm.weight False\n",
      "distilbert.transformer.layer.4.sa_layer_norm.bias False\n",
      "distilbert.transformer.layer.4.ffn.lin1.weight False\n",
      "distilbert.transformer.layer.4.ffn.lin1.bias False\n",
      "distilbert.transformer.layer.4.ffn.lin2.weight False\n",
      "distilbert.transformer.layer.4.ffn.lin2.bias False\n",
      "distilbert.transformer.layer.4.output_layer_norm.weight False\n",
      "distilbert.transformer.layer.4.output_layer_norm.bias False\n",
      "distilbert.transformer.layer.5.attention.q_lin.weight False\n",
      "distilbert.transformer.layer.5.attention.q_lin.bias False\n",
      "distilbert.transformer.layer.5.attention.k_lin.weight False\n",
      "distilbert.transformer.layer.5.attention.k_lin.bias False\n",
      "distilbert.transformer.layer.5.attention.v_lin.weight False\n",
      "distilbert.transformer.layer.5.attention.v_lin.bias False\n",
      "distilbert.transformer.layer.5.attention.out_lin.weight False\n",
      "distilbert.transformer.layer.5.attention.out_lin.bias False\n",
      "distilbert.transformer.layer.5.sa_layer_norm.weight False\n",
      "distilbert.transformer.layer.5.sa_layer_norm.bias False\n",
      "distilbert.transformer.layer.5.ffn.lin1.weight False\n",
      "distilbert.transformer.layer.5.ffn.lin1.bias False\n",
      "distilbert.transformer.layer.5.ffn.lin2.weight False\n",
      "distilbert.transformer.layer.5.ffn.lin2.bias False\n",
      "distilbert.transformer.layer.5.output_layer_norm.weight False\n",
      "distilbert.transformer.layer.5.output_layer_norm.bias False\n",
      "pre_classifier.weight True\n",
      "pre_classifier.bias True\n",
      "classifier.weight True\n",
      "classifier.bias True\n"
     ]
    }
   ],
   "source": [
    "for name, param in model.named_parameters():\n",
    "     print(name, param.requires_grad)"
   ]
  },
  {
   "cell_type": "code",
   "execution_count": 22,
   "metadata": {},
   "outputs": [
    {
     "data": {
      "application/vnd.jupyter.widget-view+json": {
       "model_id": "",
       "version_major": 2,
       "version_minor": 0
      },
      "text/plain": [
       "Downloading builder script:   0%|          | 0.00/4.20k [00:00<?, ?B/s]"
      ]
     },
     "metadata": {},
     "output_type": "display_data"
    },
    {
     "data": {
      "application/vnd.jupyter.widget-view+json": {
       "model_id": "",
       "version_major": 2,
       "version_minor": 0
      },
      "text/plain": [
       "Downloading builder script:   0%|          | 0.00/7.36k [00:00<?, ?B/s]"
      ]
     },
     "metadata": {},
     "output_type": "display_data"
    },
    {
     "data": {
      "application/vnd.jupyter.widget-view+json": {
       "model_id": "",
       "version_major": 2,
       "version_minor": 0
      },
      "text/plain": [
       "Downloading builder script:   0%|          | 0.00/7.55k [00:00<?, ?B/s]"
      ]
     },
     "metadata": {},
     "output_type": "display_data"
    },
    {
     "data": {
      "application/vnd.jupyter.widget-view+json": {
       "model_id": "",
       "version_major": 2,
       "version_minor": 0
      },
      "text/plain": [
       "Downloading builder script:   0%|          | 0.00/6.77k [00:00<?, ?B/s]"
      ]
     },
     "metadata": {},
     "output_type": "display_data"
    }
   ],
   "source": [
    "import numpy as np\n",
    "import evaluate\n",
    "\n",
    "#metric = evaluate.load(\"accuracy\")\n",
    "metric = evaluate.combine([\"accuracy\", \"recall\", \"precision\", \"f1\"])"
   ]
  },
  {
   "cell_type": "code",
   "execution_count": 23,
   "metadata": {},
   "outputs": [],
   "source": [
    "def compute_metrics(eval_pred):\n",
    "    logits, labels = eval_pred\n",
    "    predictions = np.argmax(logits, axis=-1)\n",
    "    return metric.compute(predictions=predictions, references=labels)"
   ]
  },
  {
   "cell_type": "code",
   "execution_count": 24,
   "metadata": {},
   "outputs": [],
   "source": [
    "from transformers import TrainingArguments, Trainer\n",
    "\n",
    "training_args = TrainingArguments(\n",
    "    num_train_epochs = params.get(\"training_epochs\", 3),\n",
    "    report_to = \"none\",\n",
    "    output_dir = \"test_trainer\", \n",
    "    evaluation_strategy = \"epoch\",\n",
    "    save_strategy = \"epoch\",\n",
    "    save_total_limit = 1,\n",
    "    #evaluation_strategy =\"steps\",\n",
    "    #save_strategy = \"steps\",\n",
    "    #eval_steps = 100, # Evaluation and Save happens every 100 steps \n",
    "    #save_total_limit = 3, # Only last 3 models are saved. Older ones are deleted.\n",
    "    load_best_model_at_end = True,\n",
    "    auto_find_batch_size = True,\n",
    "    #per_device_train_batch_size = params.get(\"batch_size\", 4),  # batch size per device during training\n",
    "    #per_device_eval_batch_size = params.get(\"batch_size\", 4), # batch size for evaluation\n",
    ")"
   ]
  },
  {
   "cell_type": "code",
   "execution_count": 25,
   "metadata": {},
   "outputs": [],
   "source": [
    "trainer = Trainer(\n",
    "    model=model,\n",
    "    args=training_args,\n",
    "    train_dataset=train_dataset,\n",
    "    eval_dataset=eval_dataset,\n",
    "    compute_metrics=compute_metrics,\n",
    ")"
   ]
  },
  {
   "cell_type": "code",
   "execution_count": 29,
   "metadata": {},
   "outputs": [
    {
     "name": "stderr",
     "output_type": "stream",
     "text": [
      "/usr/local/lib/python3.8/dist-packages/transformers/optimization.py:407: FutureWarning: This implementation of AdamW is deprecated and will be removed in a future version. Use the PyTorch implementation torch.optim.AdamW instead, or set `no_deprecation_warning=True` to disable this warning\n",
      "  warnings.warn(\n"
     ]
    },
    {
     "data": {
      "text/html": [
       "\n",
       "    <div>\n",
       "      \n",
       "      <progress value='79485' max='79485' style='width:300px; height:20px; vertical-align: middle;'></progress>\n",
       "      [79485/79485 3:18:45, Epoch 3/3]\n",
       "    </div>\n",
       "    <table border=\"1\" class=\"dataframe\">\n",
       "  <thead>\n",
       " <tr style=\"text-align: left;\">\n",
       "      <th>Epoch</th>\n",
       "      <th>Training Loss</th>\n",
       "      <th>Validation Loss</th>\n",
       "      <th>Accuracy</th>\n",
       "      <th>Recall</th>\n",
       "      <th>Precision</th>\n",
       "      <th>F1</th>\n",
       "    </tr>\n",
       "  </thead>\n",
       "  <tbody>\n",
       "    <tr>\n",
       "      <td>1</td>\n",
       "      <td>0.150100</td>\n",
       "      <td>0.146904</td>\n",
       "      <td>0.943175</td>\n",
       "      <td>0.973690</td>\n",
       "      <td>0.963575</td>\n",
       "      <td>0.968606</td>\n",
       "    </tr>\n",
       "    <tr>\n",
       "      <td>2</td>\n",
       "      <td>0.138700</td>\n",
       "      <td>0.145400</td>\n",
       "      <td>0.943582</td>\n",
       "      <td>0.975249</td>\n",
       "      <td>0.962578</td>\n",
       "      <td>0.968872</td>\n",
       "    </tr>\n",
       "    <tr>\n",
       "      <td>3</td>\n",
       "      <td>0.150400</td>\n",
       "      <td>0.145764</td>\n",
       "      <td>0.943326</td>\n",
       "      <td>0.975048</td>\n",
       "      <td>0.962491</td>\n",
       "      <td>0.968729</td>\n",
       "    </tr>\n",
       "  </tbody>\n",
       "</table><p>"
      ],
      "text/plain": [
       "<IPython.core.display.HTML object>"
      ]
     },
     "metadata": {},
     "output_type": "display_data"
    },
    {
     "name": "stdout",
     "output_type": "stream",
     "text": [
      "CPU times: user 3h 18min 32s, sys: 25.1 s, total: 3h 18min 57s\n",
      "Wall time: 3h 18min 47s\n"
     ]
    }
   ],
   "source": [
    "%%time\n",
    "\n",
    "train_result = trainer.train()"
   ]
  },
  {
   "cell_type": "markdown",
   "metadata": {},
   "source": [
    "It seems one training epoch would have been enough."
   ]
  },
  {
   "cell_type": "markdown",
   "metadata": {},
   "source": [
    "Let's store all this work fist."
   ]
  },
  {
   "cell_type": "code",
   "execution_count": 30,
   "metadata": {},
   "outputs": [],
   "source": [
    "model_path = \"data/\"+params[\"transformers_model_name\"]+\"-sentiment-classifier\"\n",
    "\n",
    "model.save_pretrained(model_path)\n",
    "_ = tokenizer.save_pretrained(model_path)"
   ]
  },
  {
   "cell_type": "markdown",
   "metadata": {},
   "source": [
    "Remark: I experienced an OOM during startup of the second finetuning step. In this case you need to restart and reload the model (see commented code below)."
   ]
  },
  {
   "cell_type": "code",
   "execution_count": null,
   "metadata": {},
   "outputs": [],
   "source": [
    "# model_path = \"data/\"+params[\"transformers_model_name\"]+\"-sentiment-classifier\"\n",
    "\n",
    "#tokenizer = AutoTokenizer.from_pretrained(model_path, local_files_only=True)\n",
    "#model = AutoModelForSequenceClassification.from_pretrained(model_path, local_files_only=True)"
   ]
  },
  {
   "cell_type": "markdown",
   "metadata": {},
   "source": [
    "Unfreeze all layers to allow for a full model training."
   ]
  },
  {
   "cell_type": "code",
   "execution_count": 27,
   "metadata": {},
   "outputs": [],
   "source": [
    "for name, param in model.named_parameters():\n",
    "        param.requires_grad = True"
   ]
  },
  {
   "cell_type": "markdown",
   "metadata": {},
   "source": [
    "Setup trainer again (initialize with fresh parameters)."
   ]
  },
  {
   "cell_type": "code",
   "execution_count": 28,
   "metadata": {},
   "outputs": [],
   "source": [
    "trainer = Trainer(\n",
    "    model=model,\n",
    "    args=training_args,\n",
    "    train_dataset=train_dataset,\n",
    "    eval_dataset=eval_dataset,\n",
    "    compute_metrics=compute_metrics,\n",
    ")"
   ]
  },
  {
   "cell_type": "code",
   "execution_count": 29,
   "metadata": {},
   "outputs": [
    {
     "name": "stderr",
     "output_type": "stream",
     "text": [
      "/usr/local/lib/python3.8/dist-packages/transformers/optimization.py:407: FutureWarning: This implementation of AdamW is deprecated and will be removed in a future version. Use the PyTorch implementation torch.optim.AdamW instead, or set `no_deprecation_warning=True` to disable this warning\n",
      "  warnings.warn(\n"
     ]
    },
    {
     "data": {
      "text/html": [
       "\n",
       "    <div>\n",
       "      \n",
       "      <progress value='79485' max='79485' style='width:300px; height:20px; vertical-align: middle;'></progress>\n",
       "      [79485/79485 7:48:48, Epoch 3/3]\n",
       "    </div>\n",
       "    <table border=\"1\" class=\"dataframe\">\n",
       "  <thead>\n",
       " <tr style=\"text-align: left;\">\n",
       "      <th>Epoch</th>\n",
       "      <th>Training Loss</th>\n",
       "      <th>Validation Loss</th>\n",
       "      <th>Accuracy</th>\n",
       "      <th>Recall</th>\n",
       "      <th>Precision</th>\n",
       "      <th>F1</th>\n",
       "    </tr>\n",
       "  </thead>\n",
       "  <tbody>\n",
       "    <tr>\n",
       "      <td>1</td>\n",
       "      <td>0.113200</td>\n",
       "      <td>0.132427</td>\n",
       "      <td>0.972221</td>\n",
       "      <td>0.990928</td>\n",
       "      <td>0.978491</td>\n",
       "      <td>0.984670</td>\n",
       "    </tr>\n",
       "    <tr>\n",
       "      <td>2</td>\n",
       "      <td>0.079500</td>\n",
       "      <td>0.099173</td>\n",
       "      <td>0.975830</td>\n",
       "      <td>0.989318</td>\n",
       "      <td>0.983923</td>\n",
       "      <td>0.986613</td>\n",
       "    </tr>\n",
       "    <tr>\n",
       "      <td>3</td>\n",
       "      <td>0.092000</td>\n",
       "      <td>0.099803</td>\n",
       "      <td>0.977264</td>\n",
       "      <td>0.990073</td>\n",
       "      <td>0.984755</td>\n",
       "      <td>0.987407</td>\n",
       "    </tr>\n",
       "  </tbody>\n",
       "</table><p>"
      ],
      "text/plain": [
       "<IPython.core.display.HTML object>"
      ]
     },
     "metadata": {},
     "output_type": "display_data"
    },
    {
     "name": "stdout",
     "output_type": "stream",
     "text": [
      "CPU times: user 7h 48min 27s, sys: 26.1 s, total: 7h 48min 53s\n",
      "Wall time: 7h 48min 49s\n"
     ]
    }
   ],
   "source": [
    "%%time\n",
    "\n",
    "train_result = trainer.train()"
   ]
  },
  {
   "cell_type": "code",
   "execution_count": 30,
   "metadata": {},
   "outputs": [],
   "source": [
    "model_path = \"data/\"+params[\"transformers_model_name\"]+\"-sentiment-full\"\n",
    "\n",
    "model.save_pretrained(model_path)\n",
    "_ = tokenizer.save_pretrained(model_path)"
   ]
  },
  {
   "cell_type": "code",
   "execution_count": null,
   "metadata": {},
   "outputs": [],
   "source": []
  },
  {
   "cell_type": "markdown",
   "metadata": {},
   "source": [
    "Let's put this into a Pipeline (see also [here](https://huggingface.co/docs/transformers/add_new_pipeline))"
   ]
  },
  {
   "cell_type": "code",
   "execution_count": 31,
   "metadata": {},
   "outputs": [],
   "source": [
    "from transformers import Pipeline\n",
    "\n",
    "class DoctorReviewsSentimentPipeline(Pipeline):\n",
    "    \n",
    "    def _sanitize_parameters(self, **kwargs):\n",
    "        preprocess_kwargs = {}\n",
    "        if \"input_sequence_length\" in kwargs:\n",
    "            preprocess_kwargs[\"input_sequence_length\"] = kwargs[\"input_sequence_length\"]\n",
    "        return preprocess_kwargs, {}, {}\n",
    "\n",
    "    def preprocess(self, text, input_sequence_length=256):\n",
    "        # max_length can have a major performance impact (choose it wisely).\n",
    "        # if there are occasional very long sentence compared to the others, \n",
    "        # the whole batch will need to be 256 tokens long (i.e. [batch_size, 256]),\n",
    "        # leading to a slowdown (on bigger batches the program might even crash).\n",
    "        #\n",
    "        # So it could make sense to choose a shorter input_sequence_length\n",
    "        # (however, there is a tradeoff between model performance vs. compute performance)\n",
    "        return self.tokenizer(text, \n",
    "                              padding=True, \n",
    "                              truncation=True, \n",
    "                              max_length=input_sequence_length, \n",
    "                              return_tensors=self.framework)\n",
    "\n",
    "    def _forward(self, model_inputs):\n",
    "        return self.model(**model_inputs)\n",
    "\n",
    "    def postprocess(self, model_outputs):\n",
    "        import torch\n",
    "        import numpy as np \n",
    "        \n",
    "        predictions = np.argmax(model_outputs.logits, axis=-1)\n",
    "\n",
    "        if len(predictions) > 1:\n",
    "            return [\"positive\" if pred == 1 else \"negative\" for (idx,pred) in enumerate(predictions)]\n",
    "        else:\n",
    "            return \"positive\" if predictions[0] == 1 else \"negative\""
   ]
  },
  {
   "cell_type": "code",
   "execution_count": 32,
   "metadata": {},
   "outputs": [],
   "source": [
    "from transformers.pipelines import PIPELINE_REGISTRY\n",
    "from transformers import AutoModelForSequenceClassification\n",
    "from transformers import TFAutoModelForSequenceClassification\n",
    "\n",
    "PIPELINE_REGISTRY.register_pipeline(\n",
    "    \"doctor-reviews-sentiment\",\n",
    "    pipeline_class=DoctorReviewsSentimentPipeline,\n",
    "    pt_model=AutoModelForSequenceClassification,\n",
    "    tf_model=TFAutoModelForSequenceClassification,\n",
    "    #default={\"pt\": (model_name, model_version)},\n",
    "    type=\"text\",\n",
    ")"
   ]
  },
  {
   "cell_type": "code",
   "execution_count": 33,
   "metadata": {},
   "outputs": [],
   "source": [
    "from transformers import pipeline\n",
    "\n",
    "sentiment_pipeline = pipeline(\"doctor-reviews-sentiment\", \n",
    "                              model = model_path,\n",
    "                              device = params.get(\"compute_device\", \"cpu\"),\n",
    "                              input_sequence_length = params.get(\"input_sequence_length\", 256)\n",
    "                             )"
   ]
  },
  {
   "cell_type": "code",
   "execution_count": 34,
   "metadata": {},
   "outputs": [
    {
     "data": {
      "text/plain": [
       "['positive', 'negative', 'positive']"
      ]
     },
     "execution_count": 34,
     "metadata": {},
     "output_type": "execute_result"
    }
   ],
   "source": [
    "sentiment_pipeline(data[params[\"X_column_name\"]].head(3).tolist())"
   ]
  },
  {
   "cell_type": "code",
   "execution_count": null,
   "metadata": {},
   "outputs": [],
   "source": []
  },
  {
   "cell_type": "code",
   "execution_count": 35,
   "metadata": {},
   "outputs": [],
   "source": [
    "from transformers.pipelines.pt_utils import KeyDataset\n",
    "\n",
    "batch_size = params.get(\"batch_size\", 16)\n",
    "\n",
    "dataset_test = datasets[\"test\"]\n",
    "dataset_val = datasets[\"validation\"]\n",
    "dataset_train = datasets[\"train\"]\n",
    "\n",
    "pred_iter_test = sentiment_pipeline(KeyDataset(dataset_test, params[\"X_column_name\"]), batch_size=batch_size)\n",
    "pred_iter_val = sentiment_pipeline(KeyDataset(dataset_val, params[\"X_column_name\"]), batch_size=batch_size)\n",
    "pred_iter_train = sentiment_pipeline(KeyDataset(dataset_train, params[\"X_column_name\"]), batch_size=batch_size)"
   ]
  },
  {
   "cell_type": "code",
   "execution_count": 36,
   "metadata": {},
   "outputs": [
    {
     "name": "stdout",
     "output_type": "stream",
     "text": [
      "CPU times: user 26min 10s, sys: 152 ms, total: 26min 10s\n",
      "Wall time: 26min 10s\n"
     ]
    }
   ],
   "source": [
    "%%time \n",
    "\n",
    "# evaluate PipelineIterator\n",
    "preds_test = [x for x in pred_iter_test]\n",
    "preds_val = [x for x in pred_iter_val]\n",
    "preds_train = [x for x in pred_iter_train]"
   ]
  },
  {
   "cell_type": "code",
   "execution_count": null,
   "metadata": {},
   "outputs": [],
   "source": []
  },
  {
   "cell_type": "code",
   "execution_count": 37,
   "metadata": {},
   "outputs": [],
   "source": [
    "labels_test = [\"positive\" if label == 1 else \"negative\" for label in dataset_test[\"label\"]]\n",
    "labels_val = [\"positive\" if label == 1 else \"negative\" for label in dataset_val[\"label\"]]\n",
    "labels_train = [\"positive\" if label == 1 else \"negative\" for label in dataset_train[\"label\"]]"
   ]
  },
  {
   "cell_type": "code",
   "execution_count": 38,
   "metadata": {},
   "outputs": [
    {
     "name": "stdout",
     "output_type": "stream",
     "text": [
      "Set Population: 331187\n",
      "Accuracy: 0.9789\n"
     ]
    },
    {
     "data": {
      "image/png": "[encoded data removed]",
      "text/plain": [
       "<Figure size 1000x800 with 2 Axes>"
      ]
     },
     "metadata": {},
     "output_type": "display_data"
    },
    {
     "name": "stdout",
     "output_type": "stream",
     "text": [
      "              precision    recall  f1-score   support\n",
      "\n",
      "    negative       0.91      0.88      0.89     33022\n",
      "    positive       0.99      0.99      0.99    298165\n",
      "\n",
      "    accuracy                           0.98    331187\n",
      "   macro avg       0.95      0.93      0.94    331187\n",
      "weighted avg       0.98      0.98      0.98    331187\n",
      "\n"
     ]
    }
   ],
   "source": [
    "from fhnw.nlp.utils.ploting import report_classification_results\n",
    "\n",
    "report_classification_results(params, labels_test + labels_val + labels_train, preds_test + preds_val + preds_train)"
   ]
  },
  {
   "cell_type": "code",
   "execution_count": 39,
   "metadata": {},
   "outputs": [
    {
     "name": "stdout",
     "output_type": "stream",
     "text": [
      "Set Population: 66238\n",
      "Accuracy: 0.9747\n"
     ]
    },
    {
     "data": {
      "image/png": "[encoded data removed]",
      "text/plain": [
       "<Figure size 1000x800 with 2 Axes>"
      ]
     },
     "metadata": {},
     "output_type": "display_data"
    },
    {
     "name": "stdout",
     "output_type": "stream",
     "text": [
      "              precision    recall  f1-score   support\n",
      "\n",
      "    negative       0.89      0.85      0.87      6604\n",
      "    positive       0.98      0.99      0.99     59634\n",
      "\n",
      "    accuracy                           0.97     66238\n",
      "   macro avg       0.94      0.92      0.93     66238\n",
      "weighted avg       0.97      0.97      0.97     66238\n",
      "\n"
     ]
    }
   ],
   "source": [
    "report_classification_results(params, labels_test, preds_test)"
   ]
  },
  {
   "cell_type": "markdown",
   "metadata": {},
   "source": [
    "Still not as good as the CNN/RNN but better than the original model and the fine tuned model without adjusting the class vectors in the first step.<br>\n",
    "A downside is certainly the tremendous amount of training time that was needed to fine tune the model. On the other hand the base model on a tremendous amount of data and knows a lot about language and thus the fine tuned model is very likely to generalize."
   ]
  },
  {
   "cell_type": "code",
   "execution_count": null,
   "metadata": {},
   "outputs": [],
   "source": []
  }
 ],
 "metadata": {
  "kernelspec": {
   "display_name": "Python 3 (ipykernel)",
   "language": "python",
   "name": "python3"
  },
  "language_info": {
   "codemirror_mode": {
    "name": "ipython",
    "version": 3
   },
   "file_extension": ".py",
   "mimetype": "text/x-python",
   "name": "python",
   "nbconvert_exporter": "python",
   "pygments_lexer": "ipython3",
   "version": "3.8.10"
  }
 },
 "nbformat": 4,
 "nbformat_minor": 2
}
